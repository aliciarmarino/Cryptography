{
 "cells": [
  {
   "cell_type": "markdown",
   "metadata": {
    "collapsed": false
   },
   "source": [
    "# **Lab 7**: March 27, 2019.\n",
    "## Topic: Discrete Log Problem\n",
    "\n",
    "Main concept: To learn more about the discrete log problem and the ElGamal cryptosystem."
   ]
  },
  {
   "cell_type": "code",
   "execution_count": 12,
   "metadata": {
    "collapsed": false
   },
   "outputs": [
   ],
   "source": [
    "#These are some imports that we will use later. Below are functions that you may find useful during the lab. Remember to run this cell.\n",
    "\n",
    "import random\n",
    "import fractions\n",
    "from sage.all import *\n",
    "\n",
    "#The function below tests if n is prime and returns True if so and False if not.\n",
    "def isPrime(n):\n",
    "    if n==2 or n==3: return True\n",
    "    if n%2==0 or n<2: return False\n",
    "    for i in range(3,int(n**0.5)+1,2):\n",
    "        if n%i==0:\n",
    "            return False    \n",
    "    return True\n",
    "\n",
    "#This function computing modular exponentiation more effectivly\n",
    "def mod_pow(base, exponent, modulus):\n",
    "    if modulus == 1:\n",
    "        return 0\n",
    "    result = 1\n",
    "    base = base % modulus\n",
    "    while exponent > 0:\n",
    "        if (exponent % 2 == 1):\n",
    "           result = (result * base) % modulus\n",
    "        exponent = exponent >> 1\n",
    "        base = (base * base) % modulus\n",
    "    return result\n"
   ]
  },
  {
   "cell_type": "markdown",
   "metadata": {
    "collapsed": false
   },
   "source": [
    "### Part 1: Create a public key\n",
    "\n",
    "Practice creating a public key and publishing it in your group."
   ]
  },
  {
   "cell_type": "markdown",
   "metadata": {
    "collapsed": false
   },
   "source": [
    "**Exercise 4.1**: Choose a prime $p$ that is is at least six digits long. You can use the function $\\texttt{isPrime}$ or can look up a prime number."
   ]
  },
  {
   "cell_type": "code",
   "execution_count": 0,
   "metadata": {
    "collapsed": false
   },
   "outputs": [
   ],
   "source": [
    "p = "
   ]
  },
  {
   "cell_type": "markdown",
   "metadata": {
    "collapsed": false
   },
   "source": [
    "**Exercise 4.2**: Find a primitive root modulo $p$ using the Sage command $\\texttt{primitive_root(p)}$."
   ]
  },
  {
   "cell_type": "code",
   "execution_count": 0,
   "metadata": {
    "collapsed": false
   },
   "outputs": [
   ],
   "source": [
    "alpha = "
   ]
  },
  {
   "cell_type": "markdown",
   "metadata": {
    "collapsed": false
   },
   "source": [
    "**Exercise 4.3**: Choose an integer $a$ to be your private key. Remember that $1 < a < p - 1$ "
   ]
  },
  {
   "cell_type": "code",
   "execution_count": 0,
   "metadata": {
    "collapsed": false
   },
   "outputs": [
   ],
   "source": [
    "a = "
   ]
  },
  {
   "cell_type": "markdown",
   "metadata": {
    "collapsed": false
   },
   "source": [
    "**Exercise 4.4**: Finally, calculate the last piece of your public key, $\\beta$."
   ]
  },
  {
   "cell_type": "code",
   "execution_count": 0,
   "metadata": {
    "collapsed": false
   },
   "outputs": [
   ],
   "source": [
    "beta = "
   ]
  },
  {
   "cell_type": "markdown",
   "metadata": {
    "collapsed": false
   },
   "source": [
    "**Exercise 4.5**: Publish your public key on your group's white board. Remember your complete public key is $(p, \\alpha, \\beta)$. Your private key $a$ remains private!"
   ]
  },
  {
   "cell_type": "code",
   "execution_count": 0,
   "metadata": {
    "collapsed": false
   },
   "outputs": [
   ],
   "source": [
   ]
  },
  {
   "cell_type": "markdown",
   "metadata": {
    "collapsed": false
   },
   "source": [
    "### Part 2: Encrypt a message\n",
    "\n",
    "Use someone else's public key to send a message."
   ]
  },
  {
   "cell_type": "markdown",
   "metadata": {
    "collapsed": false
   },
   "source": [
    "**Exercise 4.6**: Choose a public key from your group's white board. You will send this person a message. \n",
    "\n",
    "*Note: now you will use their $p, \\alpha, \\beta$ and not your own.*"
   ]
  },
  {
   "cell_type": "code",
   "execution_count": 0,
   "metadata": {
    "collapsed": false
   },
   "outputs": [
   ],
   "source": [
    "p1, alpha1, beta1 = "
   ]
  },
  {
   "cell_type": "markdown",
   "metadata": {
    "collapsed": false
   },
   "source": [
    "**Exercise 4.7**: Choose a message $m$ that is an integer such that $1 < m < p$."
   ]
  },
  {
   "cell_type": "code",
   "execution_count": 0,
   "metadata": {
    "collapsed": false
   },
   "outputs": [
   ],
   "source": [
    "m ="
   ]
  },
  {
   "cell_type": "markdown",
   "metadata": {
    "collapsed": false
   },
   "source": [
    "**Exercise 4.8**: Choose a random encryption key $k$ using the function $\\texttt{randint(1,p1)}$."
   ]
  },
  {
   "cell_type": "code",
   "execution_count": 9,
   "metadata": {
    "collapsed": false
   },
   "outputs": [
   ],
   "source": [
   ]
  },
  {
   "cell_type": "markdown",
   "metadata": {
    "collapsed": false
   },
   "source": [
    "**Exercise 4.9**: Create your ciphertext. Calculate $r$ and $t$ then send $(r,t)$."
   ]
  },
  {
   "cell_type": "code",
   "execution_count": 0,
   "metadata": {
    "collapsed": false
   },
   "outputs": [
   ],
   "source": [
   ]
  },
  {
   "cell_type": "markdown",
   "metadata": {
    "collapsed": false
   },
   "source": [
    "### NOTE: If you have received a ciphertext go to Part 4 to decrypt it. If you have yet to receive a ciphertext, go to Part 5 until you receive a ciphertext."
   ]
  },
  {
   "cell_type": "markdown",
   "metadata": {
    "collapsed": false
   },
   "source": [
    "### Part 4: Decrypt a message\n",
    "\n",
    "Once you have a received a ciphertext, work on decrypting it here."
   ]
  },
  {
   "cell_type": "markdown",
   "metadata": {
    "collapsed": false
   },
   "source": [
    "**Exercise 4.10**: Now that you have $(r1, t1)$ from someone in your group, use your original public key $(p, \\alpha, \\beta)$ from Part 1 to decrypt the message. Include your work below, and use the $\\texttt{mod_pow}$ function when calculating exponents mod $p$."
   ]
  },
  {
   "cell_type": "code",
   "execution_count": 0,
   "metadata": {
    "collapsed": false
   },
   "outputs": [
   ],
   "source": [
    "r1, t1 ="
   ]
  },
  {
   "cell_type": "code",
   "execution_count": 0,
   "metadata": {
    "collapsed": false
   },
   "outputs": [
   ],
   "source": [
   ]
  },
  {
   "cell_type": "markdown",
   "metadata": {
    "collapsed": false
   },
   "source": [
    "### Part 5: Diffie-Hellman\n",
    "\n",
    "ElGamal encryption is actually based off a key exchange protocol called Diffie-Hellman (recall that Diffie and Hellman were two people who invented public key cryptography in the 1970's!). Diffie-Hellman is used to generate a symmetric key publically and securely, making use of the hardness problem of discrete logs."
   ]
  },
  {
   "cell_type": "markdown",
   "metadata": {
    "collapsed": false
   },
   "source": [
    "**Exercise 5.1**: Choose a prime $p$ and primitive root $\\alpha$. Then choose $x$, where $1 < x < p-1$, as your private key. Calculate $\\alpha^x \\mod p$."
   ]
  },
  {
   "cell_type": "code",
   "execution_count": 0,
   "metadata": {
    "collapsed": false
   },
   "outputs": [
   ],
   "source": [
   ]
  },
  {
   "cell_type": "markdown",
   "metadata": {
    "collapsed": false
   },
   "source": [
    "**Exercise 5.2**: Then $\\alpha^x$ is sent to the person you wish to correspond to. They send you $\\alpha^y \\mod p$, where $y$ is their private key. Note that you will not be able to tell what $y$ is as long as the parameters are difficult enough. Have a partner choose $\\alpha^y \\mod p$."
   ]
  },
  {
   "cell_type": "code",
   "execution_count": 0,
   "metadata": {
    "collapsed": false
   },
   "outputs": [
   ],
   "source": [
   ]
  },
  {
   "cell_type": "markdown",
   "metadata": {
    "collapsed": false
   },
   "source": [
    "**Exercise 5.3**: Finally, both parties calculate $\\alpha^{xy} \\mod p$ and this number becomes the symmetric key used in a different symmetric cryptosystem."
   ]
  },
  {
   "cell_type": "code",
   "execution_count": 0,
   "metadata": {
    "collapsed": false
   },
   "outputs": [
   ],
   "source": [
   ]
  },
  {
   "cell_type": "markdown",
   "metadata": {
    "collapsed": false
   },
   "source": [
    "**Question:** How is this a public cryptosystem? What makes it secure? "
   ]
  },
  {
   "cell_type": "raw",
   "metadata": {
    "collapsed": false
   },
   "source": [
   ]
  },
  {
   "cell_type": "markdown",
   "metadata": {
    "collapsed": false
   },
   "source": [
    "**Statement:** What makes it not secure?? In 2015 researches discovered a vulnerability with Diffie-Hellman: https://www.wired.com/2015/05/new-critical-encryption-bug-affects-thousands-sites/"
   ]
  },
  {
   "cell_type": "markdown",
   "metadata": {
    "collapsed": false
   },
   "source": [
    "### Check your work:\n",
    "\n",
    "Feel free to use the functions below to check your encryption and decryption techniques if you are having problems."
   ]
  },
  {
   "cell_type": "code",
   "execution_count": 0,
   "metadata": {
    "collapsed": false
   },
   "outputs": [
   ],
   "source": [
    "#This function takes as input a list, pub_key, which is the public key [p, alpha, beta] and the plaintext message, which should be an integer less than p. It will then generate a random integer to encrypt the message.\n",
    "def elgamal_encrypt(pub_key, ptxt):\n",
    "    p, alpha, beta = pub_key\n",
    "    k = randint(1,pub_key[0])\n",
    "    r = mod_pow(alpha,k,p)\n",
    "    t = (mod_pow(beta,k,p)*ptxt) % p\n",
    "    return [r,t]\n",
    "    \n",
    "#This function takes an input a list, pub_key, containing the public key information, an integer, a, as the private key, and a list, ctxt, as the ciphertext. It will then decrypt the ciphertext according to ElGamal decryption.\n",
    "def elgamal_decrypt(pub_key, a, ctxt):\n",
    "    r_ak = (mod_pow(ctxt[0],a,pub_key[0])) #step 1: find r^ak\n",
    "    betak_inv = inverse_mod(r_ak, pub_key[0]) #step 2: find the inverse of r^(ak)\n",
    "    return betak_inv*ctxt[1] % pub_key[0] #step 3: multiply t and r^(-ak)"
   ]
  }
 ],
 "metadata": {
  "kernelspec": {
   "display_name": "Python 2 (Ubuntu Linux)",
   "language": "python",
   "metadata": {
    "cocalc": {
     "description": "Python 2 programming language",
     "priority": 5,
     "url": "https://www.python.org/"
    }
   },
   "name": "python2"
  },
  "language_info": {
   "codemirror_mode": {
    "name": "ipython",
    "version": 2
   },
   "file_extension": ".py",
   "mimetype": "text/x-python",
   "name": "python",
   "nbconvert_exporter": "python",
   "pygments_lexer": "ipython2",
   "version": "2.7.15rc1"
  }
 },
 "nbformat": 4,
 "nbformat_minor": 0
}