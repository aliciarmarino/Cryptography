{
 "cells": [
  {
   "cell_type": "markdown",
   "metadata": {
    "collapsed": false
   },
   "source": [
    "## **Lab 1**: January 23, 2019.\n",
    "### Topic: Tutorial\n",
    "\n",
    "Main concept: A large part of the course will be done using this course management platform CoCalc. With more experience you will realize how versatile the system is, it allows us to format text using $\\LaTeX$and program using Python and Sage. This will enable us to not do all computations by hand (you can thank me later!). This current document is called a Jupyter notebook. It is an interactive notebook that uses Markdown, $\\LaTeX$, and executable Python cells. "
   ]
  },
  {
   "cell_type": "markdown",
   "metadata": {
    "collapsed": false
   },
   "source": [
    "##### Example: adding/deleting cells\n",
    "\n",
    "You can add cells by using the \"Insert\" option in the menu bar. To delete cells you use the \"Edit\" option in the menu bar. To change the functionality of the cell, use the drop-down options above (to the right of \"Tab\"). You will have the options of a Markdown cell, a code cell, or a raw cell. The Markdown cell is for typing or writing math (or using Latex), the code cell is for programming, and the raw cell is for non-executable code. Sometimes I will want your written responses in a raw cell so that it is not confused with my written prompts.\n",
    "\n",
    "*Exercise:* Practice adding and deleting cells below. When you are done, add two raw cells and write \"ready to math\" in them so I know you got the hang of it."
   ]
  },
  {
   "cell_type": "raw",
   "metadata": {
    "collapsed": false
   },
   "source": [
   ]
  },
  {
   "cell_type": "markdown",
   "metadata": {
    "collapsed": false
   },
   "source": [
    "##### Example: running code\n",
    "\n",
    "As stated above, you can run code in the code cells. Below is a raw cell that contains some Python code. This code can not be run because it is in a raw cell instead of a code cell. To run code in a code cell, you can use the button in the menu bar above or hit \"shift + enter\".\n",
    "\n",
    "*Exercise:* Copy and paste the code into a code cell and run it."
   ]
  },
  {
   "cell_type": "raw",
   "metadata": {
    "collapsed": false
   },
   "source": [
    "print(\"Hello World\")"
   ]
  },
  {
   "cell_type": "markdown",
   "metadata": {
    "collapsed": false
   },
   "source": [
    "##### Example: running more code\n",
    "\n",
    "Sometimes I might write snippets of code (or functions) that you can use in computations. When I do this, you have to make sure to run that block of code before using it. Below is an example of a block of executeable code.\n",
    "\n",
    "*Exercise:* Run the block of code below and use one of the functions to encode a message in a shift cipher."
   ]
  },
  {
   "cell_type": "code",
   "execution_count": 1,
   "metadata": {
    "collapsed": false
   },
   "outputs": [
   ],
   "source": [
    "letters = [\n",
    "\"a\", \"b\", \"c\", \"d\", \"e\", \n",
    "\"f\", \"g\", \"h\", \"i\", \"j\",\n",
    "\"k\", \"l\", \"m\", \"n\", \"o\",\n",
    "\"p\", \"q\", \"r\", \"s\", \"t\",\n",
    "\"u\", \"v\", \"w\", \"x\", \"y\", \"z\"\n",
    "]\n",
    "\n",
    "\n",
    "def convert(string):\n",
    "    message = []\n",
    "    for char in string:\n",
    "        message.append(letters.index(char))\n",
    "    return message\n",
    "\n",
    "def shiftEncode(plaintext,k):\n",
    "    ciphertext = []\n",
    "    for i in convert(plaintext):\n",
    "        ciphertext.append(letters[(i+k) % 26])\n",
    "    return \"\".join(ciphertext)\n",
    "\n",
    "def shiftDecode(ciphertext,k):\n",
    "    plaintext = []\n",
    "    for i in convert(ciphertext):\n",
    "        plaintext.append(letters[(i-k) % 26])\n",
    "    return \"\".join(plaintext)"
   ]
  },
  {
   "cell_type": "code",
   "execution_count": 2,
   "metadata": {
    "collapsed": false
   },
   "outputs": [
    {
     "data": {
      "text/plain": [
       "'hfqhzqfytw'"
      ]
     },
     "execution_count": 2,
     "metadata": {
     },
     "output_type": "execute_result"
    }
   ],
   "source": [
    "shiftEncode('calculator',5)"
   ]
  },
  {
   "cell_type": "code",
   "execution_count": 0,
   "metadata": {
    "collapsed": false
   },
   "outputs": [
   ],
   "source": [
   ]
  }
 ],
 "metadata": {
  "kernelspec": {
   "display_name": "Python 2 (Ubuntu Linux)",
   "language": "python",
   "metadata": {
    "cocalc": {
     "description": "Python 2 programming language",
     "priority": 5,
     "url": "https://www.python.org/"
    }
   },
   "name": "python2"
  },
  "language_info": {
   "codemirror_mode": {
    "name": "ipython",
    "version": 2
   },
   "file_extension": ".py",
   "mimetype": "text/x-python",
   "name": "python",
   "nbconvert_exporter": "python",
   "pygments_lexer": "ipython2",
   "version": "2.7.15rc1"
  }
 },
 "nbformat": 4,
 "nbformat_minor": 0
}