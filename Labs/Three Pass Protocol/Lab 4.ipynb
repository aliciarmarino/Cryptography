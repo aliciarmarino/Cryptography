{
 "cells": [
  {
   "cell_type": "markdown",
   "metadata": {
    "collapsed": false
   },
   "source": [
    "# **Lab 4**: February 13, 2019.\n",
    "# Topic: Three Pass Protocol\n",
    "\n",
    "Main concept: Using number theory that we learned on Monday for a new communication protocol. This is typically used to share keys or small messages."
   ]
  },
  {
   "cell_type": "markdown",
   "metadata": {
    "collapsed": false
   },
   "source": [
    "### Part 1: The situation without numbers\n",
    "\n",
    "You want to send a message to another group in public (i.e. on the white board) so that then you can communicate with an affine cipher. In order to do that, you can communicate the key via a three pass protocol. A three pass protocol works as follows:\n",
    "\n",
    "1) You have a message (or key) you want to send and you put it in a box. You put a lock on the box for which you only have the key to. Then send the box to Bob (aka another group).\n",
    "2) Bob puts their own lock on the box as well. Now the box has two locks. They send the box back to you.\n",
    "3) You unlock your lock from the box. Now the box is still locked with Bob's lock. You send it back to Bob.\n",
    "4) Now the box only has Bob's lock on it. They are able to unlock their lock and receive the message (or key).\n",
    "\n"
   ]
  },
  {
   "cell_type": "markdown",
   "metadata": {
    "collapsed": false
   },
   "source": [
    "**Question 1**: What are the strengths of this protocol? What are the weaknesses?"
   ]
  },
  {
   "cell_type": "raw",
   "metadata": {
    "collapsed": false
   },
   "source": [
   ]
  },
  {
   "cell_type": "markdown",
   "metadata": {
    "collapsed": false
   },
   "source": [
    "### Part 2: The situation with numbers\n",
    "\n",
    "Mathematically, the protocol is as follows. A modulus $p$, a prime, is made public. The message to be sent is $k$. Note that $a^{-1}$ and $b^{-1}$ denote the multiplcative inverses of $a$ and $b$, respectively, modulo $p-1$. \n",
    "\n",
    "1) The message you want to send is $k$. To encrypt it, choose a random number $a$ such that $(a,p-1)=1$. Send $c_0 = k^a \\mod p$ to Bob.\n",
    "2) Bob chooses their own random number $b$ such that $(b,p-1)=1$. Bob sends $c_1 = c_0^b \\mod p$ back to you.\n",
    "3) You compute $c_2 = c_1^{a^{-1}} \\mod p$ and send it back to Bob.\n",
    "4) Bob computes $c_2^{b^{-1}} \\mod p$ and recovers the message."
   ]
  },
  {
   "cell_type": "markdown",
   "metadata": {
    "collapsed": false
   },
   "source": [
    "**Question 2**: Why is it important that $(a,p-1)=1$ and $(b,p-1)=1$? Why are we working relatively prime to $p-1$ instead of $p$?"
   ]
  },
  {
   "cell_type": "raw",
   "metadata": {
    "collapsed": false
   },
   "source": [
   ]
  },
  {
   "cell_type": "markdown",
   "metadata": {
    "collapsed": false
   },
   "source": [
    "**Question 3**: Why does this process work? Explicitly show that $c_2^{b^{-1}} \\equiv k \\mod p$. State any related theorems."
   ]
  },
  {
   "cell_type": "raw",
   "metadata": {
    "collapsed": false
   },
   "source": [
   ]
  },
  {
   "cell_type": "markdown",
   "metadata": {
    "collapsed": false
   },
   "source": [
    "#### CHECK IN: Call me over so we can go over the process before you begin ####"
   ]
  },
  {
   "cell_type": "markdown",
   "metadata": {
    "collapsed": false
   },
   "source": [
    "### Part 3: Setting up for a  Three Pass Protocol\n",
    "\n",
    "We will be using the Three Pass Protocol to exchange keys for a Vigenère cipher. This section is the set up process so that you can exchange keys with another group."
   ]
  },
  {
   "cell_type": "markdown",
   "metadata": {
    "collapsed": false
   },
   "source": [
    "**Exercise 1:** Determine a key that you will eventually send with the Three Pass Protocol. Remember the key is the \"message\" in the Three Pass Protocol but will eventually be a key in the Vigère cipher. With that said, the key should be a short English word. We will limit the length of the key to 4 characters."
   ]
  },
  {
   "cell_type": "raw",
   "metadata": {
    "collapsed": false
   },
   "source": [
    "key="
   ]
  },
  {
   "cell_type": "markdown",
   "metadata": {
    "collapsed": false
   },
   "source": [
    "**Exercise 2:** Convert the key to numbers using our typical conversion. To avoid confusion, every letter should be two digits long (i.e. 'a' $\\rightarrow$ 00, 'b' $\\rightarrow$ 01, $\\ldots$, 'z' $\\rightarrow$ 25). As an example, $\\texttt{jen} \\rightarrow 090413$, so $k = 90413$. Let $k$ be the numerical representation of the key."
   ]
  },
  {
   "cell_type": "code",
   "execution_count": 0,
   "metadata": {
    "collapsed": false
   },
   "outputs": [
   ],
   "source": [
    "k="
   ]
  },
  {
   "cell_type": "markdown",
   "metadata": {
    "collapsed": false
   },
   "source": [
    "**Exercise 3:** Choose a prime $p$ for your modulus. Note that $p$ must be larger than $k$. To check that your number is prime use the $\\texttt{isPrime}$ function below. Once you have a prime $p$ (verify it is prime!) publish it on your whiteboard."
   ]
  },
  {
   "cell_type": "code",
   "execution_count": 5,
   "metadata": {
    "collapsed": false
   },
   "outputs": [
   ],
   "source": [
    "#The function below tests if n is prime and returns True if so and False if not.\n",
    "def isPrime(n):\n",
    "    if n==2 or n==3: return True\n",
    "    if n%2==0 or n<2: return False\n",
    "    for i in range(3,int(n**0.5)+1,2):\n",
    "        if n%i==0:\n",
    "            return False    \n",
    "\n",
    "    return True"
   ]
  },
  {
   "cell_type": "code",
   "execution_count": 0,
   "metadata": {
    "collapsed": false
   },
   "outputs": [
   ],
   "source": [
   ]
  },
  {
   "cell_type": "code",
   "execution_count": 0,
   "metadata": {
    "collapsed": false
   },
   "outputs": [
   ],
   "source": [
    "p = "
   ]
  },
  {
   "cell_type": "markdown",
   "metadata": {
    "collapsed": false
   },
   "source": [
    "**Exercise 4:** Choose a encryption exponent $a$ such that $(a,p-1)=1$. Use the $\\texttt{numpy.gcd()}$ function below to verify. Note that this function takes two arguments, the two numbers you wish to find the gcd of."
   ]
  },
  {
   "cell_type": "code",
   "execution_count": 3,
   "metadata": {
    "collapsed": false,
    "scrolled": true
   },
   "outputs": [
    {
     "data": {
      "text/plain": [
       "1"
      ]
     },
     "execution_count": 3,
     "metadata": {
     },
     "output_type": "execute_result"
    }
   ],
   "source": [
    "#By changing a and b below you can calculate the gcd of two numbers.\n",
    "import numpy\n",
    "\n",
    "numpy.gcd(27,3628273132)"
   ]
  },
  {
   "cell_type": "code",
   "execution_count": 0,
   "metadata": {
    "collapsed": false
   },
   "outputs": [
   ],
   "source": [
    "a="
   ]
  },
  {
   "cell_type": "markdown",
   "metadata": {
    "collapsed": false
   },
   "source": [
    "#### CHECK IN: Call me over so I can pair you with another group ####"
   ]
  },
  {
   "cell_type": "markdown",
   "metadata": {
    "collapsed": false
   },
   "source": [
    "### Part 4: Exchanging keys\n",
    "\n",
    "Now that you are paired up with another group and the moduli are published on the boards you can begin to exchange keys. Be careful with your calculations! Let $q$ be the prime moduli for the group that you are obtaining a key from."
   ]
  },
  {
   "cell_type": "markdown",
   "metadata": {
    "collapsed": false
   },
   "source": [
    "**Exercise 5:** Choose a decryption exponent $b$ such that $(b,q-1)=1$. Use the $\\texttt{gcd}$ function again to verify the coprimality condition."
   ]
  },
  {
   "cell_type": "code",
   "execution_count": 0,
   "metadata": {
    "collapsed": false
   },
   "outputs": [
   ],
   "source": [
   ]
  },
  {
   "cell_type": "code",
   "execution_count": 0,
   "metadata": {
    "collapsed": false
   },
   "outputs": [
   ],
   "source": [
    "b="
   ]
  },
  {
   "cell_type": "markdown",
   "metadata": {
    "collapsed": false
   },
   "source": [
    "**Exercise 6:** Now that all of the numbers are calculated, complete the Three Pass Protocol. Since you will be using large numbers and will likely break CoCalc with straight exponentiation, use the $\\texttt{mod_pow}$ function below for modular exponentiation computations. Use the whiteboard to communicate. Show work for your steps below. What is the other group's key?"
   ]
  },
  {
   "cell_type": "code",
   "execution_count": 17,
   "metadata": {
    "collapsed": false
   },
   "outputs": [
   ],
   "source": [
    "def mod_pow(base, exponent, modulus):\n",
    "    if modulus == 1:\n",
    "        return 0\n",
    "    result = 1\n",
    "    base = base % modulus\n",
    "    while exponent > 0:\n",
    "        if (exponent % 2 == 1):\n",
    "           result = (result * base) % modulus\n",
    "        exponent = exponent >> 1\n",
    "        base = (base * base) % modulus\n",
    "    return result"
   ]
  },
  {
   "cell_type": "code",
   "execution_count": 21,
   "metadata": {
    "collapsed": false
   },
   "outputs": [
   ],
   "source": [
    "c_2 = mod_pow(c_1,a_inv,p)"
   ]
  },
  {
   "cell_type": "code",
   "execution_count": 0,
   "metadata": {
    "collapsed": false
   },
   "outputs": [
   ],
   "source": [
   ]
  },
  {
   "cell_type": "code",
   "execution_count": 5,
   "metadata": {
    "collapsed": false
   },
   "outputs": [
   ],
   "source": [
    "k=7897"
   ]
  },
  {
   "cell_type": "code",
   "execution_count": 6,
   "metadata": {
    "collapsed": false
   },
   "outputs": [
   ],
   "source": [
    "a = 25"
   ]
  },
  {
   "cell_type": "code",
   "execution_count": 7,
   "metadata": {
    "collapsed": false
   },
   "outputs": [
   ],
   "source": [
    "b=27"
   ]
  },
  {
   "cell_type": "code",
   "execution_count": 8,
   "metadata": {
    "collapsed": false
   },
   "outputs": [
   ],
   "source": [
    "p = 3628273133"
   ]
  },
  {
   "cell_type": "code",
   "execution_count": 9,
   "metadata": {
    "collapsed": false
   },
   "outputs": [
   ],
   "source": [
    "c_0 = k**a % p"
   ]
  },
  {
   "cell_type": "code",
   "execution_count": 10,
   "metadata": {
    "collapsed": false
   },
   "outputs": [
    {
     "data": {
      "text/plain": [
       "1442801250L"
      ]
     },
     "execution_count": 10,
     "metadata": {
     },
     "output_type": "execute_result"
    }
   ],
   "source": [
    "c_0"
   ]
  },
  {
   "cell_type": "code",
   "execution_count": 11,
   "metadata": {
    "collapsed": false
   },
   "outputs": [
   ],
   "source": [
    "c_1 = c_0**b % p"
   ]
  },
  {
   "cell_type": "code",
   "execution_count": 12,
   "metadata": {
    "collapsed": false,
    "scrolled": true
   },
   "outputs": [
    {
     "data": {
      "text/plain": [
       "672735018L"
      ]
     },
     "execution_count": 12,
     "metadata": {
     },
     "output_type": "execute_result"
    }
   ],
   "source": [
    "c_1"
   ]
  },
  {
   "cell_type": "code",
   "execution_count": 13,
   "metadata": {
    "collapsed": false
   },
   "outputs": [
   ],
   "source": [
    "from sage.all import *"
   ]
  },
  {
   "cell_type": "code",
   "execution_count": 15,
   "metadata": {
    "collapsed": false
   },
   "outputs": [
   ],
   "source": [
    "a_inv = inverse_mod(25,p-1)"
   ]
  },
  {
   "cell_type": "code",
   "execution_count": 19,
   "metadata": {
    "collapsed": false
   },
   "outputs": [
   ],
   "source": [
    "b_inv = inverse_mod(27,p-1)"
   ]
  },
  {
   "cell_type": "code",
   "execution_count": 20,
   "metadata": {
    "collapsed": false
   },
   "outputs": [
    {
     "data": {
      "text/plain": [
       "1075043891"
      ]
     },
     "execution_count": 20,
     "metadata": {
     },
     "output_type": "execute_result"
    }
   ],
   "source": [
    "b_inv"
   ]
  },
  {
   "cell_type": "code",
   "execution_count": 22,
   "metadata": {
    "collapsed": false
   },
   "outputs": [
    {
     "data": {
      "text/plain": [
       "7897L"
      ]
     },
     "execution_count": 22,
     "metadata": {
     },
     "output_type": "execute_result"
    }
   ],
   "source": [
    "mod_pow(c_2,b_inv,p)"
   ]
  },
  {
   "cell_type": "code",
   "execution_count": 0,
   "metadata": {
    "collapsed": false
   },
   "outputs": [
   ],
   "source": [
   ]
  },
  {
   "cell_type": "code",
   "execution_count": 0,
   "metadata": {
    "collapsed": false
   },
   "outputs": [
   ],
   "source": [
   ]
  },
  {
   "cell_type": "raw",
   "metadata": {
    "collapsed": false
   },
   "source": [
    "key = "
   ]
  },
  {
   "cell_type": "markdown",
   "metadata": {
    "collapsed": false
   },
   "source": [
    "#### CHECK IN: Call me over so I can pair you with another group ####"
   ]
  },
  {
   "cell_type": "markdown",
   "metadata": {
    "collapsed": false
   },
   "source": [
    "### Part 5: Sending a message with Vigenère ###\n",
    "\n",
    "Using the keys you have exchanged in the Part 4, you will now communicate via Vigenère.\n",
    "\n",
    "\n",
    "**Exercise 7:** Now that you have the Vigenère key for a different group, use it to encode a message. You can do this by hand with the Vigenère table or using the code below. I suggest sending your ciphertext over email. Remember to show work below."
   ]
  },
  {
   "cell_type": "code",
   "execution_count": 16,
   "metadata": {
    "collapsed": false
   },
   "outputs": [
   ],
   "source": [
    "let = 'abcdefghijklmnopqrstuvwxyz'\n",
    "\n",
    "#Enter a plaintext as the \"string\" argument (lowercase) and the key in letters as the \"key\" argument (lowercase).\n",
    "def encodeVigenere(string, key):\n",
    "    ciphertext = []\n",
    "    for k,i in enumerate(string):\n",
    "        ciphertext.append(let[(let.index(i)+let.index(key[k % len(key)])) % 26].upper())\n",
    "    return \"\".join(ciphertext)\n",
    "\n",
    "#Enter a ciphertext as the \"string\" argument (uppercase) and the key in letters as the \"key\" argument (lowercase).\n",
    "def decodeVigenere(string, key):\n",
    "    plaintext = []\n",
    "    for k,i in enumerate(string):\n",
    "        plaintext.append(let[(let.index(i.lower())-let.index(key[k % len(key)])) % 26])\n",
    "    return \"\".join(plaintext)"
   ]
  },
  {
   "cell_type": "code",
   "execution_count": 0,
   "metadata": {
    "collapsed": false
   },
   "outputs": [
   ],
   "source": [
   ]
  },
  {
   "cell_type": "markdown",
   "metadata": {
    "collapsed": false
   },
   "source": [
    "**Exercise 8:** You should receive a ciphertext from another group. Decode the ciphertext by hand (haha) or using the code above."
   ]
  },
  {
   "cell_type": "code",
   "execution_count": 0,
   "metadata": {
    "collapsed": false
   },
   "outputs": [
   ],
   "source": [
   ]
  },
  {
   "cell_type": "markdown",
   "metadata": {
    "collapsed": false
   },
   "source": [
    "### Part 6: Reflection\n",
    "\n",
    "**Question 4:** Thinking back to Monday, how is the 'Basic Principle' used in the Three Pass Protocol?"
   ]
  },
  {
   "cell_type": "raw",
   "metadata": {
    "collapsed": false
   },
   "source": [
   ]
  }
 ],
 "metadata": {
  "kernelspec": {
   "display_name": "Python 2 (SageMath)",
   "language": "python",
   "name": "python2"
  },
  "language_info": {
   "codemirror_mode": {
    "name": "ipython",
    "version": 2
   },
   "file_extension": ".py",
   "mimetype": "text/x-python",
   "name": "python",
   "nbconvert_exporter": "python",
   "pygments_lexer": "ipython2",
   "version": "2.7.15"
  }
 },
 "nbformat": 4,
 "nbformat_minor": 0
}