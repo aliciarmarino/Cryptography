{
 "cells": [
  {
   "cell_type": "markdown",
   "metadata": {
    "collapsed": false
   },
   "source": [
    "# **Lab 3**: February 6, 2019.\n",
    "# Topic: Vigenère Ciphers\n",
    "\n",
    "Main concept: Known ciphertext attack on a Vigenère cipher.\n",
    "\n",
    "You access the ciphertext from a Vigenère cipher and are tasked with decrypting it. This worksheet will guide you through performing a known ciphertext attack"
   ]
  },
  {
   "cell_type": "markdown",
   "metadata": {
    "collapsed": false
   },
   "source": [
    "### Part 1: The ciphertext\n",
    "\n"
   ]
  },
  {
   "cell_type": "markdown",
   "metadata": {
    "collapsed": false
   },
   "source": [
    "The ciphertext you find is:"
   ]
  },
  {
   "cell_type": "raw",
   "metadata": {
    "collapsed": false
   },
   "source": [
    "'LXSWIWEMJOJEQVNWUASEGQFYWHGVVEYWJSIFPMGGRMOKVJVRELVGGSDMGWFRQMARMIWSPWKCDSVHIMPHGCNSCOVHFYEFHHZOYIJHYEEMJOJACSAUZWEVHUXPPHVQIMPHNDISMPRAJLZYYREXEEXSKLTWYCEKTXEWVHESGVZRVGBBKVZPZMEICZRWKWPZVRVREXUOKWAIRRJXLRTSEXTEYHFXSEGHZQPTBGZXTSAQLVGIGVZWAVBPCIXABICHMIZWEITJVXLWEOASNXSEGHRRRIAHCMYIOIKASEGHFHZWUCNQPEFWXRDSVHYSFKUHSENOGCTEWGHZLWHELPRGVXBBVAESAOEHESYSZFYMMOEHESCFFFWIZGAYDXYWBIELVGRRONHGKPTORHYEEAUSEMSEQUZZPRHDRPWLBDVMDEVRESAIGVVVPWWIJXZRRKRCESSWEHELNHJPZTROEHDSACNMTAVZCHPVVJVJTRQHYIOIEWMEEMISFJITBGZXTSAKZXSVRGGINXGCKMXIVHJEDINGPEDGNBSIUYFHYEGIGCKEVIQLUXTAVZCHPVVJVMHMYZUICMISYIJLRMRROXUSEMHIAHRLPEQHFXSIFSTSYHCOIXMYGOJMWSBYVHLXVHZALWAHJYCIDIZXPLBKKSDXNFKMEANGRWVMAUWSCXUSKMXINHNLTGUJVPZGVHPALWNHRQLBVALQLRQWNEDXUWEOTRTKFITWZSSYEXUSEMELBIXLEXUWJQFGUWBRZA'"
   ]
  },
  {
   "cell_type": "markdown",
   "metadata": {
    "collapsed": false
   },
   "source": [
    "### Part 2: Finding the key length\n",
    "\n",
    "For a Vigenère cipher it is important to find the *key length* before finding the key. Since the Vigenère cipher is a collection of interwoven shift ciphers, we can find the key by looking at coincidences of the ciphertext with a shifted version of itself. The displacements with the most coincidences are *most likely* to be the multiples of the key length. \n",
    "\n",
    "The exercises below will guide you through this process."
   ]
  },
  {
   "cell_type": "markdown",
   "metadata": {
    "collapsed": false
   },
   "source": [
    "**Exercise 1**: Fill in the \"Displacement-Coincidences\" table below. To do this, run the $\\texttt{coincidenceCount}$ function for displacements $1 \\leq d \\leq 15$. You could also write the ciphertext on two pieces of paper and do it manually, your choice! Record the output of the function in the table below."
   ]
  },
  {
   "cell_type": "code",
   "execution_count": 62,
   "metadata": {
    "collapsed": false
   },
   "outputs": [
   ],
   "source": [
    "def coincidenceCount(L,d):\n",
    "    count = 0\n",
    "    for i in zip(L[:-d],L[d:]):\n",
    "        if i[0] == i[1]:\n",
    "            count += 1\n",
    "    return count"
   ]
  },
  {
   "cell_type": "markdown",
   "metadata": {
    "collapsed": false
   },
   "source": [
    "| Displacement  | Coincidences  |\n",
    "| ------------- | ------------- |\n",
    "|       1       |               |\n",
    "|       2       |               |\n",
    "|       3       |               |\n",
    "|       4       |               |\n",
    "|       5       |               |\n",
    "|       6       |               |\n",
    "|       7       |               |\n",
    "|       8       |               |\n",
    "|       9       |               |\n",
    "|       10      |               |\n",
    "|       11      |               |\n",
    "|       12      |               |\n",
    "|       13      |               |\n",
    "|       14      |               |\n",
    "|       15      |               |"
   ]
  },
  {
   "cell_type": "markdown",
   "metadata": {
    "collapsed": false
   },
   "source": [
    "**Exercise 2:** Analyze the table. What is the key length for this ciphertext? Write it down below."
   ]
  },
  {
   "cell_type": "raw",
   "metadata": {
    "collapsed": false
   },
   "source": [
   ]
  },
  {
   "cell_type": "markdown",
   "metadata": {
    "collapsed": false
   },
   "source": [
    "##### *CHECK IN: call me over!* ######"
   ]
  },
  {
   "cell_type": "markdown",
   "metadata": {
    "collapsed": false
   },
   "source": [
    "### Part 3: Finding the key\n",
    "\n",
    "Now that we have an educated guess on the key length, it is time to find the key. This will involve frequency analysis as well, however since adjacent letters are encrypted with different shift keys, we have to split the ciphertext accordingly."
   ]
  },
  {
   "cell_type": "markdown",
   "metadata": {
    "collapsed": false
   },
   "source": [
    "Let the key length you found in Part 2 be $k$. To find the key, follow the next steps.\n",
    "\n",
    "**Exercise 3:** First, we must split the ciphertext $k$-many ways by grouping all letters in the same position modulo $k$ together. Run the code below to create $k$-many lists. Label them appropriately."
   ]
  },
  {
   "cell_type": "code",
   "execution_count": 2,
   "metadata": {
    "collapsed": false
   },
   "outputs": [
   ],
   "source": [
    "#string should be what you are splitting, i is the position modulo k, and k is the key length.\n",
    "#This function splits the string provided by taking only letters in position i modulo k.\n",
    "def splitString(string,i,k):\n",
    "    L = []\n",
    "    for j in range(len(string)):\n",
    "        if j % k == i:\n",
    "            L.append(string[j])\n",
    "    return \"\".join(L)"
   ]
  },
  {
   "cell_type": "markdown",
   "metadata": {
    "collapsed": false
   },
   "source": [
    "**Question:** Why did we reorganzie the ciphertext this way? Explain."
   ]
  },
  {
   "cell_type": "raw",
   "metadata": {
    "collapsed": false
   },
   "source": [
   ]
  },
  {
   "cell_type": "markdown",
   "metadata": {
    "collapsed": false
   },
   "source": [
    "Now we want to do frequency analysis on these individual substrings of the ciphertext. To find the frequency for each letter in each substring, do the following exercises.\n",
    "\n",
    "**Exercise 4:** For each substring, count the number of times each letter occurs and divide it by the total number of letters in that substring. You may use the code below or work by hand."
   ]
  },
  {
   "cell_type": "code",
   "execution_count": 3,
   "metadata": {
    "collapsed": false
   },
   "outputs": [
   ],
   "source": [
    "#This function takes in a string and outputs the frequency count for each letter in that string.\n",
    "def frequencyCount(string):\n",
    "    alphabet = 'ABCDEFGHIJKLMNOPQRSTUVWXYZ'\n",
    "    n = len(string)\n",
    "    freq_dict = {key: 0.0 for key in alphabet}\n",
    "    for char in string:\n",
    "        freq_dict[char] += 1.0/n\n",
    "    return freq_dict\n",
    "    "
   ]
  },
  {
   "cell_type": "markdown",
   "metadata": {
    "collapsed": false
   },
   "source": [
    "If you are working by hand, it might be helpful to keep track of the frequencies in this table. Each row should correspond to a different substring.\n",
    "\n",
    "| | A | B | C | D | E | F | G | H | I | J | K | L | M | N | O | P | Q | R | S | T | U | V | W | X | Y | Z |\n",
    "|-| - | - | - | - | - | - | - | - | - | - | - | - | - | - | - | - | - | - | - | - | - | - | - | - | - | - |\n",
    "||   |   |   |   |   |   |   |   |   |   |   |   |   |   |   |   |   |   |   |   |   |   |   |   |   |   |\n",
    "||   |   |   |   |   |   |   |   |   |   |   |   |   |   |   |   |   |   |   |   |   |   |   |   |   |   |\n",
    "||   |   |   |   |   |   |   |   |   |   |   |   |   |   |   |   |   |   |   |   |   |   |   |   |   |   |\n",
    "||   |   |   |   |   |   |   |   |   |   |   |   |   |   |   |   |   |   |   |   |   |   |   |   |   |   |"
   ]
  },
  {
   "cell_type": "markdown",
   "metadata": {
    "collapsed": false
   },
   "source": [
    "**Exercise 5:** Now you have to do some computations with the list of frequencies found in Exercise 4. To do that, for each substring we enter its frequences in a list in Python (see example below). Label the list so that you know which substring it belongs to. If you would like to not do this by hand, use the code below."
   ]
  },
  {
   "cell_type": "raw",
   "metadata": {
    "collapsed": false
   },
   "source": [
    "Example:\n",
    "f0 = [.012,.0,.033,.012,.062,.013,.0,.063,.033,.012,.062,.033,.002,.012,.062,.033,.00,.067,.028,.012,.064,.033,.120,.062,.079,.001]"
   ]
  },
  {
   "cell_type": "raw",
   "metadata": {
    "collapsed": false
   },
   "source": [
    "#If a0 is the collection of frequencies for a substring found in Exercise 4 (i.e. a0 = frequencyCount(substring_0)) then f0 makes an ordered list of those frequences.\n",
    "f0 = [a0[ch] for ch in 'ABCDEFGHIJKLMNOPQRSTUVWXYZ']"
   ]
  },
  {
   "cell_type": "markdown",
   "metadata": {
    "collapsed": false
   },
   "source": [
    "**Exercise 6:** We can now determine the key! For each list created in Exercise 5, use the $\\texttt{findthekey}$ function on that list. The maximum number in the list that is outputted corresponds to the letter used for the key."
   ]
  },
  {
   "cell_type": "code",
   "execution_count": 5,
   "metadata": {
    "collapsed": false
   },
   "outputs": [
   ],
   "source": [
    "#The list below is the list of frequencies of each letter in the English language. For example, the 'C' is used 2.78% of the time.\n",
    "f=[0.0816, 0.0149, 0.0278, 0.0425, 0.127, 0.0222, 0.0201, 0.0609, 0.0696, 0.0015, 0.0077, 0.0402, 0.024, 0.0674, 0.075, 0.0192, 0.0009, 0.0598, 0.0632, 0.0905, 0.0275, 0.0097, 0.0236, 0.0015, 0.0197, 0.0007]\n",
    "\n",
    "#The function below compares the frequencies in the parameter list L to the list above of English frequencies.\n",
    "def findthekey(L):\n",
    "    M = []\n",
    "    for i in range(26):\n",
    "        K = [f[(j-i)%26] for j in range(26)]\n",
    "        M.append(round(sum([x*y for x,y in zip(L,K)]),5))\n",
    "    return filter(lambda (i, val): val == max(M), zip(range(len(M)), M))"
   ]
  },
  {
   "cell_type": "markdown",
   "metadata": {
    "collapsed": false
   },
   "source": [
    "**Exercise 7:** By putting all of the pieces of the key together, we will have the key for the encryption of this Vigenère cipher. Write the key below."
   ]
  },
  {
   "cell_type": "raw",
   "metadata": {
    "collapsed": false
   },
   "source": [
   ]
  },
  {
   "cell_type": "markdown",
   "metadata": {
    "collapsed": false
   },
   "source": [
    "#### *CHECK IN: call me over so we can discuss finding the key* ######"
   ]
  },
  {
   "cell_type": "markdown",
   "metadata": {
    "collapsed": false
   },
   "source": [
    "### Part 4: Decrypt the ciphertext\n",
    "\n",
    "Now that you know the key, decrypt the message using the Vigenère table or by using the code below."
   ]
  },
  {
   "cell_type": "code",
   "execution_count": 1,
   "metadata": {
    "collapsed": false
   },
   "outputs": [
   ],
   "source": [
    "#Enter the ciphertext as \"string\" in all capitals and the key should be a string as well (the letters represent the shifts). Note that the key should be lowercase.\n",
    "def decodeVigenere(string, key):\n",
    "    let = 'abcdefghijklmnopqrstuvwxyz'\n",
    "    plaintext = []\n",
    "    for k,i in enumerate(string):\n",
    "        plaintext.append(let[(let.index(i.lower())-let.index(key[k % len(key)])) % 26])\n",
    "    return \"\".join(plaintext)"
   ]
  },
  {
   "cell_type": "markdown",
   "metadata": {
    "collapsed": false
   },
   "source": [
    "**Exercise 8:** The plaintext is: "
   ]
  },
  {
   "cell_type": "code",
   "execution_count": 0,
   "metadata": {
    "collapsed": false
   },
   "outputs": [
   ],
   "source": [
    "decodeVigenere('')"
   ]
  },
  {
   "cell_type": "markdown",
   "metadata": {
    "collapsed": false
   },
   "source": [
    "#### *CHECK IN: call me over so I know you were able to decrypt* ######"
   ]
  },
  {
   "cell_type": "markdown",
   "metadata": {
    "collapsed": false
   },
   "source": [
    "### Part 5: Why does this work?\n",
    "\n",
    "**Exercise 9:** Write down any ideas you have about why this process works. We will discuss together at the end of class."
   ]
  },
  {
   "cell_type": "markdown",
   "metadata": {
    "collapsed": false
   },
   "source": [
    " "
   ]
  }
 ],
 "metadata": {
  "kernelspec": {
   "display_name": "Python 2 (SageMath)",
   "language": "python",
   "name": "python2"
  },
  "language_info": {
   "codemirror_mode": {
    "name": "ipython",
    "version": 2
   },
   "file_extension": ".py",
   "mimetype": "text/x-python",
   "name": "python",
   "nbconvert_exporter": "python",
   "pygments_lexer": "ipython2",
   "version": "2.7.15"
  }
 },
 "nbformat": 4,
 "nbformat_minor": 0
}