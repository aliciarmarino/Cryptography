{
 "cells": [
  {
   "cell_type": "markdown",
   "metadata": {
    "collapsed": false
   },
   "source": [
    "# **Lab 8**: April 3, 2019.\n",
    "## Topic: Elliptic Curve Cryptography\n",
    "\n",
    "Main concept: To apply the information we know about elliptic curves to cryptography."
   ]
  },
  {
   "cell_type": "code",
   "execution_count": 6,
   "metadata": {
    "collapsed": false
   },
   "outputs": [
   ],
   "source": [
    "#These are some imports that we will use later. Below are functions that you may find useful during the lab. Remember to run this cell.\n",
    "\n",
    "import random\n",
    "import numpy as np\n",
    "from sage.all import *\n",
    "\n",
    "#The function below tests if n is prime and returns True if so and False if not.\n",
    "def isPrime(n):\n",
    "    if n==2 or n==3: return True\n",
    "    if n%2==0 or n<2: return False\n",
    "    for i in range(3,int(n**0.5)+1,2):\n",
    "        if n%i==0:\n",
    "            return False    \n",
    "    return True\n",
    "\n",
    "#This function will find all points on the elliptic curve of prime order.\n",
    "def findPrimeOrderPoints(E):\n",
    "    for g in E.points()[1:]:\n",
    "        if isPrime(E(int(g[0]),int(g[1])).order()) == True:\n",
    "            print g\n"
   ]
  },
  {
   "cell_type": "code",
   "execution_count": 8,
   "metadata": {
    "collapsed": false
   },
   "outputs": [
    {
     "data": {
      "text/plain": [
       "3"
      ]
     },
     "execution_count": 8,
     "metadata": {
     },
     "output_type": "execute_result"
    }
   ],
   "source": [
    "E = EllipticCurve(GF(5),[0,2])\n",
    "E(3,2).order()"
   ]
  },
  {
   "cell_type": "markdown",
   "metadata": {
    "collapsed": false
   },
   "source": [
    "### Part 1: What is a digital signature algorithm?\n",
    "\n",
    "An important aspect of cryptography that we have yet to discuss is what is known as digital signature algorithms (DSA). The purpose of a DSA is akin to that of a signature for a mailed package, it is a method to verify that a person is who they say they are.\n",
    "\n",
    "When you are a part of a security domain (i.e. different people in one system who will want to verify each other, for example all the people in the U.S. would follow a similar protocol for signing USPS packages) you all use the same parameters. The parameters are like a public key and are known to everyone in the security domain. For Elliptic Curve Digital Signature Algorithm (ECDSA) the parameters are:\n",
    " - the elliptic curve $E = \\texttt{EllipticCurve(GF(p),[b,c])}$, and\n",
    " - a base point $G = (x_g, y_g)$ on $E$ such that $q\\cdot G = \\textbf{0}$ where $q$ is prime. We call $q$ *the order of $G$*."
   ]
  },
  {
   "cell_type": "markdown",
   "metadata": {
    "collapsed": false
   },
   "source": [
    "For the sake of learning ECDSA we will let our parameters be $E=\\texttt{Elliptic Curve(GF(563),[1,5])}$ and $g = E(310,527)$ with $q = 73$.\n",
    "\n",
    "**Exercise 1.1**: Save the elliptic curve to the variable $E$ using the Sage commands we learned on Monday."
   ]
  },
  {
   "cell_type": "code",
   "execution_count": 0,
   "metadata": {
    "collapsed": false
   },
   "outputs": [
   ],
   "source": [
    "E = "
   ]
  },
  {
   "cell_type": "markdown",
   "metadata": {
    "collapsed": false
   },
   "source": [
    "**Exercise 1.2**: Save the base point to the variable $G$. "
   ]
  },
  {
   "cell_type": "code",
   "execution_count": 0,
   "metadata": {
    "collapsed": false
   },
   "outputs": [
   ],
   "source": [
    "G = "
   ]
  },
  {
   "cell_type": "markdown",
   "metadata": {
    "collapsed": false
   },
   "source": [
    "**Exercise 1.3**: Verify that $G$ has order $q$."
   ]
  },
  {
   "cell_type": "code",
   "execution_count": 0,
   "metadata": {
    "collapsed": false
   },
   "outputs": [
   ],
   "source": [
   ]
  },
  {
   "cell_type": "markdown",
   "metadata": {
    "collapsed": false
   },
   "source": [
    "### Part 2: Generating your keys\n",
    "\n",
    "Each participant in the security domain must have their own personal set of keys. These keys are used to verify that you are who you say you are. The key pair for ECDSA is based on the discrete log problem.\n",
    "- private key: a random integer $a$ such that $1 \\leq a \\leq q-1$\n",
    "- public key: a point $R$ on the the elliptic curve $E$ such that $R = a \\cdot G$. \n",
    "Now it is time for you to generate your key pair."
   ]
  },
  {
   "cell_type": "markdown",
   "metadata": {
    "collapsed": false
   },
   "source": [
    "**Exercise 2.1**: Select a random integer $a$ such that $1\\leq a \\leq q-1$ using $\\texttt{RandInt(1,q)}$."
   ]
  },
  {
   "cell_type": "code",
   "execution_count": 0,
   "metadata": {
    "collapsed": false
   },
   "outputs": [
   ],
   "source": [
    "a = "
   ]
  },
  {
   "cell_type": "markdown",
   "metadata": {
    "collapsed": false
   },
   "source": [
    "**Exercise 2.2**: Calculate your public key using the definition of the public key above."
   ]
  },
  {
   "cell_type": "code",
   "execution_count": 0,
   "metadata": {
    "collapsed": false
   },
   "outputs": [
   ],
   "source": [
    "R = "
   ]
  },
  {
   "cell_type": "markdown",
   "metadata": {
    "collapsed": false
   },
   "source": [
    "### Part 3: It's time to sign a message.\n",
    "\n",
    "The purpose of your private key is to enable you to verify your authenticity when given a message $m$. In this section, you will be given a message $m$ and must sign it with your private key."
   ]
  },
  {
   "cell_type": "markdown",
   "metadata": {
    "collapsed": false
   },
   "source": [
    "**Exercise 3.1**: Ask your partner for a message $m$. The message should be an integer modulo $q$. "
   ]
  },
  {
   "cell_type": "code",
   "execution_count": 0,
   "metadata": {
    "collapsed": false
   },
   "outputs": [
   ],
   "source": [
    "m ="
   ]
  },
  {
   "cell_type": "markdown",
   "metadata": {
    "collapsed": false
   },
   "source": [
    "**Exercise 3.2**: Select a random integer $k$ such that $1 \\leq k \\leq q-1$ using $\\texttt{RandInt(1,q)}$.\n",
    "\n",
    "*Note: This $k$ should be different with each signing of a message.*"
   ]
  },
  {
   "cell_type": "code",
   "execution_count": 0,
   "metadata": {
    "collapsed": false
   },
   "outputs": [
   ],
   "source": [
   ]
  },
  {
   "cell_type": "markdown",
   "metadata": {
    "collapsed": false
   },
   "source": [
    "**Exercise 3.3**: Compute a new point on the elliptic curve $E$ by computing $k \\cdot G$. Call the coordinates of the point $x_1$ and $y_1$. "
   ]
  },
  {
   "cell_type": "code",
   "execution_count": 0,
   "metadata": {
    "collapsed": false
   },
   "outputs": [
   ],
   "source": [
   ]
  },
  {
   "cell_type": "markdown",
   "metadata": {
    "collapsed": false
   },
   "source": [
    "**Exercise 3.4**: Compute $r \\equiv x_1 \\mod q$. \n",
    "\n",
    "*Note: if $r=0$ then go back to Exercise 3.2 and choose a new $k$*."
   ]
  },
  {
   "cell_type": "code",
   "execution_count": 0,
   "metadata": {
    "collapsed": false
   },
   "outputs": [
   ],
   "source": [
   ]
  },
  {
   "cell_type": "markdown",
   "metadata": {
    "collapsed": false
   },
   "source": [
    "**Exercise 3.5**: Compute $k^{-1} \\mod q$."
   ]
  },
  {
   "cell_type": "code",
   "execution_count": 0,
   "metadata": {
    "collapsed": false
   },
   "outputs": [
   ],
   "source": [
   ]
  },
  {
   "cell_type": "markdown",
   "metadata": {
    "collapsed": false
   },
   "source": [
    "**Exercise 3.6**: Compute $t$ where $t \\equiv k^{-1}(m+ar) \\mod q$.\n",
    "\n",
    "*Note: if $t = 0$ then go back to Exercise 3.2 and choose a new $k$."
   ]
  },
  {
   "cell_type": "code",
   "execution_count": 0,
   "metadata": {
    "collapsed": false
   },
   "outputs": [
   ],
   "source": [
   ]
  },
  {
   "cell_type": "markdown",
   "metadata": {
    "collapsed": false
   },
   "source": [
    "**Exercise 3.7**: Your signature is now complete! Send your partner the pair $(r,t)$, as this is your signature of $m$.\n",
    "\n",
    "*Note: $(r,t)$ is NOT a point on the elliptic curve, it is simply a pair of numbers.*"
   ]
  },
  {
   "cell_type": "code",
   "execution_count": 0,
   "metadata": {
    "collapsed": false
   },
   "outputs": [
   ],
   "source": [
   ]
  },
  {
   "cell_type": "markdown",
   "metadata": {
    "collapsed": false
   },
   "source": [
    "#### At this point you and your partner should have completed creating your individual signatures for your respective messages. ####\n",
    "#### The next part involves verifying your partner's signature. ####"
   ]
  },
  {
   "cell_type": "markdown",
   "metadata": {
    "collapsed": false
   },
   "source": [
    "### Part 4: Verify your partner's signature\n",
    "\n",
    "Once you have your partner's signature, it is time to verify it and make sure they are who they say they are. Now let $(r',t')$ be the signature of your partner, $R'$ be your partner's public key, and $m'$ be the message that you sent to them."
   ]
  },
  {
   "cell_type": "markdown",
   "metadata": {
    "collapsed": false
   },
   "source": [
    "**Exercise 4.1**: Check that $r'$ and $t'$ are integers modulo $q$. If not, your partner is a fraud (or made a silly mistake)."
   ]
  },
  {
   "cell_type": "code",
   "execution_count": 0,
   "metadata": {
    "collapsed": false
   },
   "outputs": [
   ],
   "source": [
   ]
  },
  {
   "cell_type": "markdown",
   "metadata": {
    "collapsed": false
   },
   "source": [
    "**Exercise 4.2**: Compute $t'^{-1} \\mod q$."
   ]
  },
  {
   "cell_type": "code",
   "execution_count": 0,
   "metadata": {
    "collapsed": false
   },
   "outputs": [
   ],
   "source": [
   ]
  },
  {
   "cell_type": "markdown",
   "metadata": {
    "collapsed": false
   },
   "source": [
    "**Exercise 4.3**: Compute $u_1 = m't'^{-1} \\mod q$ and $u_2 = r't'^{-1} \\mod q$."
   ]
  },
  {
   "cell_type": "code",
   "execution_count": 0,
   "metadata": {
    "collapsed": false
   },
   "outputs": [
   ],
   "source": [
   ]
  },
  {
   "cell_type": "markdown",
   "metadata": {
    "collapsed": false
   },
   "source": [
    "**Exercise 4.4:** Compute a new point on the elliptic curve $E$, $u_1\\cdot G + u_2 \\cdot R' = (x_2, y_2)$."
   ]
  },
  {
   "cell_type": "raw",
   "metadata": {
    "collapsed": false
   },
   "source": [
   ]
  },
  {
   "cell_type": "markdown",
   "metadata": {
    "collapsed": false
   },
   "source": [
    "**Exercise 4.5**: If $(x_2,y_2) \\neq \\textbf{0}$ move on to **Exercise 4.6**. If $(x_2,y_2) = \\textbf{0}$ then your partner is definitely not who they say they are. Ask for a license. Verify their photo. Be very suspicious.\n",
    "\n",
    "*Note: I am kidding, that would definitely be a breach of privacy.*"
   ]
  },
  {
   "cell_type": "code",
   "execution_count": 0,
   "metadata": {
    "collapsed": false
   },
   "outputs": [
   ],
   "source": [
   ]
  },
  {
   "cell_type": "markdown",
   "metadata": {
    "collapsed": false
   },
   "source": [
    "**Exercise 4.6**: If $r'\\equiv x_2 \\mod q$ then the signature is valid! Woo!"
   ]
  },
  {
   "cell_type": "code",
   "execution_count": 0,
   "metadata": {
    "collapsed": false
   },
   "outputs": [
   ],
   "source": [
   ]
  },
  {
   "cell_type": "markdown",
   "metadata": {
    "collapsed": false
   },
   "source": [
    "### Part 5: Where is this used?\n",
    "\n",
    "ECDSA is used in Bitcoin user verification, OpenSSL, Sony, among others. In fact, some of these companies don't even know how to use the algorithm correctly! \n",
    "\n",
    "-> https://arstechnica.com/gaming/2010/12/ps3-hacked-through-poor-implementation-of-cryptography/?comments=1 "
   ]
  },
  {
   "cell_type": "markdown",
   "metadata": {
    "collapsed": false
   },
   "source": [
    "**Question**: What did Sony do wrong when implementing ECDSA for Playstation?"
   ]
  },
  {
   "cell_type": "code",
   "execution_count": 0,
   "metadata": {
    "collapsed": false
   },
   "outputs": [
   ],
   "source": [
   ]
  }
 ],
 "metadata": {
  "kernelspec": {
   "display_name": "SageMath (stable)",
   "language": "sagemath",
   "metadata": {
    "cocalc": {
     "description": "Open-source mathematical software system",
     "priority": 10,
     "url": "https://www.sagemath.org/"
    }
   },
   "name": "sagemath"
  },
  "language_info": {
   "codemirror_mode": {
    "name": "ipython",
    "version": 2
   },
   "file_extension": ".py",
   "mimetype": "text/x-python",
   "name": "python",
   "nbconvert_exporter": "python",
   "pygments_lexer": "ipython2",
   "version": "2.7.15"
  }
 },
 "nbformat": 4,
 "nbformat_minor": 0
}