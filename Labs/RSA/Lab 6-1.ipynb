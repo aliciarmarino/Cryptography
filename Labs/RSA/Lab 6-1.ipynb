{
 "cells": [
  {
   "cell_type": "markdown",
   "metadata": {
    "collapsed": false
   },
   "source": [
    "# **Lab 6**: February 27, 2019.\n",
    "## Topic: RSA\n",
    "\n",
    "Main concept: To practice computing with RSA, we will create a public key directory for the class and practice sending messages within that system."
   ]
  },
  {
   "cell_type": "code",
   "execution_count": 5,
   "metadata": {
    "collapsed": false
   },
   "outputs": [
   ],
   "source": [
    "#These are some imports that we will use later. Below are functions that you may find useful during the lab. Remember to run this cell.\n",
    "\n",
    "import fractions\n",
    "from sage.all import *\n",
    "\n",
    "#This is used to calculate the Euler phi function of natural numbers n\n",
    "def phi(n):\n",
    "    amount = 0        \n",
    "    for k in range(1, n + 1):\n",
    "        if fractions.gcd(n, k) == 1:\n",
    "            amount += 1\n",
    "    return amount\n",
    "\n",
    "#This function returns the gcd of a and b\n",
    "def gcd(a,b):\n",
    "    return fractions.gcd(a,b)\n",
    "\n",
    "#The function below tests if n is prime and returns True if so and False if not.\n",
    "def isPrime(n):\n",
    "    if n==2 or n==3: return True\n",
    "    if n%2==0 or n<2: return False\n",
    "    for i in range(3,int(n**0.5)+1,2):\n",
    "        if n%i==0:\n",
    "            return False    \n",
    "\n",
    "    return True\n",
    "\n",
    "#This function computing modular exponentiation more effectivly\n",
    "def mod_pow(base, exponent, modulus):\n",
    "    if modulus == 1:\n",
    "        return 0\n",
    "    result = 1\n",
    "    base = base % modulus\n",
    "    while exponent > 0:\n",
    "        if (exponent % 2 == 1):\n",
    "           result = (result * base) % modulus\n",
    "        exponent = exponent >> 1\n",
    "        base = (base * base) % modulus\n",
    "    return result"
   ]
  },
  {
   "cell_type": "markdown",
   "metadata": {
    "collapsed": false
   },
   "source": [
    "### Part 1: Making keys\n",
    "\n",
    "In order to have others communicate with you it is necessary to publish your encryption key. To decrypt what others have sent it is also necessary to have a private decryption key."
   ]
  },
  {
   "cell_type": "markdown",
   "metadata": {
    "collapsed": false
   },
   "source": [
    "**Exercise 1**: Choose two prime numbers that are at least 20 digits long *each*. Call them $p$ and $q$. Let $n=pq$."
   ]
  },
  {
   "cell_type": "code",
   "execution_count": 0,
   "metadata": {
    "collapsed": false
   },
   "outputs": [
   ],
   "source": [
    "p = "
   ]
  },
  {
   "cell_type": "code",
   "execution_count": 0,
   "metadata": {
    "collapsed": false
   },
   "outputs": [
   ],
   "source": [
    "q ="
   ]
  },
  {
   "cell_type": "code",
   "execution_count": 0,
   "metadata": {
    "collapsed": false
   },
   "outputs": [
   ],
   "source": [
    "n = "
   ]
  },
  {
   "cell_type": "markdown",
   "metadata": {
    "collapsed": false
   },
   "source": [
    "**Exercise 2**: Create an encryption key. Call it $e$. Remember that $e$ must be coprime to $\\varphi(n)$."
   ]
  },
  {
   "cell_type": "code",
   "execution_count": 6,
   "metadata": {
    "collapsed": false
   },
   "outputs": [
   ],
   "source": [
    "e = "
   ]
  },
  {
   "cell_type": "markdown",
   "metadata": {
    "collapsed": false
   },
   "source": [
    "**Exercise 3**: Publish your public key $(e,n)$ on the board next to your name."
   ]
  },
  {
   "cell_type": "markdown",
   "metadata": {
    "collapsed": false
   },
   "source": [
    "### Part 2: Encryption\n",
    "\n",
    "Practice encrypting a simple message and sending it to someone in the class."
   ]
  },
  {
   "cell_type": "markdown",
   "metadata": {
    "collapsed": false
   },
   "source": [
    "**Exercise 4**: Choose a person in class to send a message to. Put a mark next to their name so that no one else sends them a message (and don't choose someone who is already chosen). When you are encrypting you should work with *their* modulus. "
   ]
  },
  {
   "cell_type": "code",
   "execution_count": 7,
   "metadata": {
    "collapsed": false
   },
   "outputs": [
   ],
   "source": [
    "new_n = "
   ]
  },
  {
   "cell_type": "code",
   "execution_count": 0,
   "metadata": {
    "collapsed": false
   },
   "outputs": [
   ],
   "source": [
    "new_e ="
   ]
  },
  {
   "cell_type": "markdown",
   "metadata": {
    "collapsed": false
   },
   "source": [
    "**Exercise 5**: Choose a plaintext message $m$ that is a number less than $n$. "
   ]
  },
  {
   "cell_type": "code",
   "execution_count": 0,
   "metadata": {
    "collapsed": false
   },
   "outputs": [
   ],
   "source": [
    "m = "
   ]
  },
  {
   "cell_type": "markdown",
   "metadata": {
    "collapsed": false
   },
   "source": [
    "**Exercise 6**: Encrypt $m$ to get your ciphertext $c$ using the process we went over in class (i.e. $c \\equiv m^e \\mod n$)."
   ]
  },
  {
   "cell_type": "code",
   "execution_count": 0,
   "metadata": {
    "collapsed": false
   },
   "outputs": [
   ],
   "source": [
    "c = "
   ]
  },
  {
   "cell_type": "markdown",
   "metadata": {
    "collapsed": false
   },
   "source": [
    "**Exercise 7**: Send $c$ to your \"Bob\" by writing $c$ on the board next to their public key."
   ]
  },
  {
   "cell_type": "markdown",
   "metadata": {
    "collapsed": false
   },
   "source": [
    "### Part 2: Decryption\n",
    "\n",
    "Practice decrypting a simple message. Someone in the class should send a ciphertext to you by writing it on the board next to your public key. Decrypt that message."
   ]
  },
  {
   "cell_type": "markdown",
   "metadata": {
    "collapsed": false
   },
   "source": [
    "**Exercise 8**: Create a decryption key. Call it $d$. Remember that $d$ is the multiplicative inverse to $e$ modulo $\\phi(n)$."
   ]
  },
  {
   "cell_type": "code",
   "execution_count": 0,
   "metadata": {
    "collapsed": false
   },
   "outputs": [
   ],
   "source": [
    "d ="
   ]
  },
  {
   "cell_type": "markdown",
   "metadata": {
    "collapsed": false
   },
   "source": [
    "**Exercise 9**: Decrypt the message using the process we went over in class (i.e. $m \\equiv c^d \\mod n$)."
   ]
  },
  {
   "cell_type": "code",
   "execution_count": 0,
   "metadata": {
    "collapsed": false
   },
   "outputs": [
   ],
   "source": [
    "message = "
   ]
  },
  {
   "cell_type": "markdown",
   "metadata": {
    "collapsed": false
   },
   "source": [
    "#### CHECK IN: call me over so we can talk about the basic algorithm"
   ]
  },
  {
   "cell_type": "markdown",
   "metadata": {
    "collapsed": false
   },
   "source": [
    "### Part 3: Sending messages\n",
    "\n",
    "Practice sending messages with RSA by converting the alphabet to digits."
   ]
  },
  {
   "cell_type": "markdown",
   "metadata": {
    "collapsed": false
   },
   "source": [
    "**Exercise 11**: Choose a plaintext message that has less than 20 characters (i.e. $\\texttt{`lenoreisgreat'}$). Convert the plaintext message to $m$ by assigning each letter to its place in the alphabet, but be sure to send each letter to two digits, meaning $\\texttt{`a'} \\rightarrow 00,  \\texttt{`b'} \\rightarrow 01, \\texttt{`c'} \\rightarrow 02, \\ldots, \\texttt{`z'} \\rightarrow 25$. With this process $\\texttt{`lenoreisgreat'}$ would become $m = 110413141708180617040019$."
   ]
  },
  {
   "cell_type": "code",
   "execution_count": 0,
   "metadata": {
    "collapsed": false
   },
   "outputs": [
   ],
   "source": [
   ]
  },
  {
   "cell_type": "markdown",
   "metadata": {
    "collapsed": false
   },
   "source": [
    "**Exercise 12**: Encrypt your message using someone else's public key. Send the ciphertext (as one large integer) to that person using the index card provided. "
   ]
  },
  {
   "cell_type": "code",
   "execution_count": 0,
   "metadata": {
    "collapsed": false
   },
   "outputs": [
   ],
   "source": [
   ]
  },
  {
   "cell_type": "markdown",
   "metadata": {
    "collapsed": false
   },
   "source": [
    "**Exercise 13**: Decrypt a message that you receive from someone else. Convert the message back to letters. What is the message?"
   ]
  },
  {
   "cell_type": "code",
   "execution_count": 0,
   "metadata": {
    "collapsed": false
   },
   "outputs": [
   ],
   "source": [
   ]
  }
 ],
 "metadata": {
  "kernelspec": {
   "display_name": "Python 2 (Ubuntu Linux)",
   "language": "python",
   "metadata": {
    "cocalc": {
     "description": "Python 2 programming language",
     "priority": 5,
     "url": "https://www.python.org/"
    }
   },
   "name": "python2"
  },
  "language_info": {
   "codemirror_mode": {
    "name": "ipython",
    "version": 2
   },
   "file_extension": ".py",
   "mimetype": "text/x-python",
   "name": "python",
   "nbconvert_exporter": "python",
   "pygments_lexer": "ipython2",
   "version": "2.7.15rc1"
  }
 },
 "nbformat": 4,
 "nbformat_minor": 0
}