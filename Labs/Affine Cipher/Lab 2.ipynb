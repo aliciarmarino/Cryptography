{
 "cells": [
  {
   "cell_type": "markdown",
   "metadata": {
    "collapsed": false
   },
   "source": [
    "# **Lab 2**: January 30, 2019.\n",
    "# Topic: Affine Ciphers\n",
    "\n",
    "Main concept: Attacks on affine ciphers"
   ]
  },
  {
   "cell_type": "markdown",
   "metadata": {
    "collapsed": false
   },
   "source": [
    "### Part 1: Choices of $\\alpha$\n",
    "\n",
    "Recall a theorem that we stated last class:\n",
    "\n",
    "*The multiplicative inverse of $\\alpha$, $\\alpha^{-1}$, exists modulo $n$ if and only if the greatest common divisor of $\\alpha$ and $n$ is 1.*"
   ]
  },
  {
   "cell_type": "markdown",
   "metadata": {
    "collapsed": false
   },
   "source": [
    "**Question 1:** What are the possibilities for $\\alpha$ modulo 26?"
   ]
  },
  {
   "cell_type": "raw",
   "metadata": {
    "collapsed": false
   },
   "source": [
   ]
  },
  {
   "cell_type": "markdown",
   "metadata": {
    "collapsed": false
   },
   "source": [
    "**Question 2:** How many different keys are there for affine ciphers? Recall that a key for an affine cipher is a pair $(\\alpha, \\beta)$."
   ]
  },
  {
   "cell_type": "raw",
   "metadata": {
    "collapsed": false
   },
   "source": [
   ]
  },
  {
   "cell_type": "markdown",
   "metadata": {
    "collapsed": false
   },
   "source": [
    "#### *CHECK IN: call me over so we can discuss your answers to the first two problems* ######"
   ]
  },
  {
   "cell_type": "markdown",
   "metadata": {
    "collapsed": false
   },
   "source": [
    "### Part 2: Known plaintext attacks\n",
    "\n",
    "For the next few parts of the lab, you will pretend you are Eve (Eve Polastri maybe?). A *known plaintext attack* is one where the adversary has a copy of a piece of plaintext and its corresponding ciphertext. From this information, the adversary tries to compute the key."
   ]
  },
  {
   "cell_type": "markdown",
   "metadata": {
    "collapsed": false
   },
   "source": [
    "**Exercise 1:** You are trying to disrupt communication between Alice and Bob. You find out that 'i' is sent to 'P' and 'f' is sent to 'Q'. What is the key for this affine cipher encryption?"
   ]
  },
  {
   "cell_type": "code",
   "execution_count": 0,
   "metadata": {
    "collapsed": false
   },
   "outputs": [
   ],
   "source": [
   ]
  },
  {
   "cell_type": "code",
   "execution_count": 0,
   "metadata": {
    "collapsed": false
   },
   "outputs": [
   ],
   "source": [
   ]
  },
  {
   "cell_type": "markdown",
   "metadata": {
    "collapsed": false
   },
   "source": [
    "**Exercise 2:** Alice and Bob determine that their current encryption is unsafe so they change the key. Now you find out that 'go' is mapped to \"TH\". What is the key for this affine cipher encryption?"
   ]
  },
  {
   "cell_type": "code",
   "execution_count": 0,
   "metadata": {
    "collapsed": false
   },
   "outputs": [
   ],
   "source": [
   ]
  },
  {
   "cell_type": "code",
   "execution_count": 0,
   "metadata": {
    "collapsed": false
   },
   "outputs": [
   ],
   "source": [
   ]
  },
  {
   "cell_type": "markdown",
   "metadata": {
    "collapsed": false
   },
   "source": [
    "##### *CHECK IN: call me over so we can discuss your answers to the first two exercises* ######"
   ]
  },
  {
   "cell_type": "markdown",
   "metadata": {
    "collapsed": false
   },
   "source": [
    "### Part 3: Chosen plaintext attacks\n",
    "\n",
    "A *chosen plaintext attack* is one where the adversary has access to the encryption machine. Given this knowledge, can you determine the key?"
   ]
  },
  {
   "cell_type": "markdown",
   "metadata": {
    "collapsed": false
   },
   "source": [
    "**Exercise 2:** Choose a suitable $\\alpha$ and $\\beta$ to make your encryption key. Adjust the function below so that you are able to encrypt plaintexts quickly."
   ]
  },
  {
   "cell_type": "code",
   "execution_count": 6,
   "metadata": {
    "collapsed": false
   },
   "outputs": [
   ],
   "source": [
    "letters = [\n",
    "\"a\", \"b\", \"c\", \"d\", \"e\", \n",
    "\"f\", \"g\", \"h\", \"i\", \"j\",\n",
    "\"k\", \"l\", \"m\", \"n\", \"o\",\n",
    "\"p\", \"q\", \"r\", \"s\", \"t\",\n",
    "\"u\", \"v\", \"w\", \"x\", \"y\", \"z\"\n",
    "]\n",
    "\n",
    "\n",
    "def convert(string):\n",
    "    message = []\n",
    "    for char in string:\n",
    "        message.append(letters.index(char.lower()))\n",
    "    return message\n",
    "\n",
    "def affineEncodeFixed(plaintext):\n",
    "    ciphertext = []\n",
    "    for i in convert(plaintext):\n",
    "        ciphertext.append(letters[(A*i+B) % 26].upper())\n",
    "    return \"\".join(ciphertext)"
   ]
  },
  {
   "cell_type": "code",
   "execution_count": 0,
   "metadata": {
    "collapsed": false
   },
   "outputs": [
   ],
   "source": [
   ]
  },
  {
   "cell_type": "markdown",
   "metadata": {
    "collapsed": false
   },
   "source": [
    "#### *CHECK IN: call me over so I know you are at this step* ######"
   ]
  },
  {
   "cell_type": "markdown",
   "metadata": {
    "collapsed": false
   },
   "source": [
    "**Exercise 3:** You will be paired up with another group. You are able to send the other group plaintext messages twice and they will give you the corresponding ciphertexts. Can you determine their key? \n",
    "\n",
    "Note: You should use the index cards to communicate the plaintext messages to other groups."
   ]
  },
  {
   "cell_type": "code",
   "execution_count": 0,
   "metadata": {
    "collapsed": false
   },
   "outputs": [
   ],
   "source": [
   ]
  },
  {
   "cell_type": "markdown",
   "metadata": {
    "collapsed": false
   },
   "source": [
    "### Part 4: Known ciphertext attacks\n",
    "\n",
    "A *known ciphertext attack* is one where the adversary knows the ciphertext. Given this knowledge, can you determine the key?"
   ]
  },
  {
   "cell_type": "markdown",
   "metadata": {
    "collapsed": false
   },
   "source": [
    "**Exercise 4:** You eavesdrop on the communication and find the ciphertext \"OWRILEVQWRDSRSQNSRIVNYHEJ\". What is the original message?\n",
    "\n",
    "*Hint:* You can use the \"decode\" function below."
   ]
  },
  {
   "cell_type": "raw",
   "metadata": {
    "collapsed": false
   },
   "source": [
    "from sage.all import *\n",
    "\n",
    "def decode(string, a, b):\n",
    "  cipher_text = convert(string)\n",
    "  message = []\n",
    "  for i in cipher_text:\n",
    "    message.append(letters[(inverse_mod(a,26)*(i-b))% 26])  \n",
    "  return \"\".join(message)"
   ]
  },
  {
   "cell_type": "code",
   "execution_count": 0,
   "metadata": {
    "collapsed": false
   },
   "outputs": [
   ],
   "source": [
   ]
  },
  {
   "cell_type": "markdown",
   "metadata": {
    "collapsed": false
   },
   "source": [
    "#### *CHECK IN: call me over so we can go over the main ideas together* ######"
   ]
  }
 ],
 "metadata": {
  "kernelspec": {
   "display_name": "Python 2 (Ubuntu Linux)",
   "language": "python",
   "metadata": {
    "cocalc": {
     "description": "Python 2 programming language",
     "priority": 5,
     "url": "https://www.python.org/"
    }
   },
   "name": "python2"
  },
  "language_info": {
   "codemirror_mode": {
    "name": "ipython",
    "version": 2
   },
   "file_extension": ".py",
   "mimetype": "text/x-python",
   "name": "python",
   "nbconvert_exporter": "python",
   "pygments_lexer": "ipython2",
   "version": "2.7.15rc1"
  }
 },
 "nbformat": 4,
 "nbformat_minor": 0
}