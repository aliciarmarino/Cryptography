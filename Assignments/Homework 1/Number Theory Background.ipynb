{
 "cells": [
  {
   "cell_type": "markdown",
   "metadata": {
    "collapsed": false
   },
   "source": [
    "## **Homework 1**: Due on Monday, January 28 by 5:00pm.\n",
    "### Topic: Number theory\n",
    "\n",
    "Main concept: Throughout this class we will be using a lot of tools from number theory since cryptographic algorithms are based on hard problems from number theory. The first concept that will be important is that of modular arithmetic. This worksheet will walk you through the concept of modular arithmetic and how to do modular computations in Python."
   ]
  },
  {
   "cell_type": "markdown",
   "metadata": {
    "collapsed": false
   },
   "source": [
    "##### Example: Mod 12\n",
    "\n",
    "When working modulo 12, the only numbers that we have are 0,1,2,3,4,5,6,7,8,9,10,11. This is sometimes called \"clock arithmetic\". In this world, 12 is the same as 0, 13 is the same as 1, and so on. Thinking about this pattern, what is 14 is the same as?"
   ]
  },
  {
   "cell_type": "raw",
   "metadata": {
    "collapsed": false
   },
   "source": [
   ]
  },
  {
   "cell_type": "markdown",
   "metadata": {
    "collapsed": false
   },
   "source": [
    "The reason for this pattern is the remainders when dividing by 12. Since 12 divided by 12 has a remainder of 0, we say that \"12 is congruent to 0 modulo 12\". Similarly, 13 divided by 12 has a remainder of 1 so we say \"13 is congruent to 1 modulo 12\". Mathematically, this is written as $$12 \\equiv 0 \\mod 12$$ $$13 \\equiv 1 \\mod 12$$ We can check what a number is modulo 12 by using Python's \"mod operator\", %. "
   ]
  },
  {
   "cell_type": "raw",
   "metadata": {
    "collapsed": false
   },
   "source": [
    "13 % 12"
   ]
  },
  {
   "cell_type": "markdown",
   "metadata": {
    "collapsed": false
   },
   "source": [
    "Use Python to calculate the values of 15, 100, 150428, and 739209475638 modulo 12."
   ]
  },
  {
   "cell_type": "code",
   "execution_count": 1,
   "metadata": {
    "collapsed": false
   },
   "outputs": [
    {
     "data": {
      "text/plain": [
       "3"
      ]
     },
     "execution_count": 1,
     "metadata": {
     },
     "output_type": "execute_result"
    }
   ],
   "source": [
    "15 % 12"
   ]
  },
  {
   "cell_type": "code",
   "execution_count": 0,
   "metadata": {
    "collapsed": false
   },
   "outputs": [
   ],
   "source": [
   ]
  },
  {
   "cell_type": "code",
   "execution_count": 0,
   "metadata": {
    "collapsed": false
   },
   "outputs": [
   ],
   "source": [
   ]
  },
  {
   "cell_type": "code",
   "execution_count": 0,
   "metadata": {
    "collapsed": false
   },
   "outputs": [
   ],
   "source": [
   ]
  },
  {
   "cell_type": "markdown",
   "metadata": {
    "collapsed": false
   },
   "source": [
    "##### Modular Talk\n",
    "\n",
    "There is a conceptual difference between the \"mod\" of computer programming and the \"mod\" of number theory. In computer programming, \"mod\" is  the operator which outputs the remainder after division. So for a computer scientist, \"24 mod 13 = 11\", because 11 is the remainder after dividing 24 by 13.\n",
    "\n",
    "Number theorists (starting with Gauss) view this as more than a mere computation. A number theorist would write $$24 \\equiv 11 \\mod 13$$ to say that 24 is congruent to 11 modulo 13. In this sense \"mod 13\" (standing for \"modulo 13\") is a prepositional phrase, describing the \"modular world\" in which 24 is the same as (\"congruent to\") 11."
   ]
  },
  {
   "cell_type": "markdown",
   "metadata": {
    "collapsed": false
   },
   "source": [
    "###### Example: \n",
    "Working mod 9, what is 27 congruent to? What is -3 congruent to?"
   ]
  },
  {
   "cell_type": "code",
   "execution_count": 0,
   "metadata": {
    "collapsed": false
   },
   "outputs": [
   ],
   "source": [
   ]
  },
  {
   "cell_type": "markdown",
   "metadata": {
    "collapsed": false
   },
   "source": [
    "##### Modular Arithmetic\n",
    "\n",
    "We can do arithmetic while working in a modular world as well. Suppose $a \\equiv 2 \\mod 4$ and $b \\equiv 3 \\mod 4$. Then the following are true:\n",
    " * $a + b \\equiv 2 + 3 \\equiv 5 \\equiv 1 \\mod 4$\n",
    " * $a - b \\equiv 2 - 3 \\equiv -1 \\equiv 3 \\mod 4$\n",
    " * $ab \\equiv 6 \\equiv 2 \\mod 4$\n",
    " * $a^3 \\equiv 2^3 \\equiv 8 \\equiv 0 \\mod 4$\n"
   ]
  },
  {
   "cell_type": "markdown",
   "metadata": {
    "collapsed": false
   },
   "source": [
    "#### Exercises:\n",
    "\n",
    "Complete the following exercises. Feel free to use Python's mod operator, but include all of your work (i.e. for full credit do not erase cells or work, but add as many cells as needed.) "
   ]
  },
  {
   "cell_type": "markdown",
   "metadata": {
    "collapsed": false
   },
   "source": [
    "1) Compute  $219 \\mod 26$."
   ]
  },
  {
   "cell_type": "code",
   "execution_count": 0,
   "metadata": {
    "collapsed": false
   },
   "outputs": [
   ],
   "source": [
   ]
  },
  {
   "cell_type": "markdown",
   "metadata": {
    "collapsed": false
   },
   "source": [
    "2) Explain in words why $-5 \\equiv 21 \\mod 26$."
   ]
  },
  {
   "cell_type": "raw",
   "metadata": {
    "collapsed": false
   },
   "source": [
   ]
  },
  {
   "cell_type": "markdown",
   "metadata": {
    "collapsed": false
   },
   "source": [
    "3) Suppose $a \\equiv 3 \\mod 12$ and $b \\equiv 8 \\mod 12$. What is $a + b \\mod 12$?"
   ]
  },
  {
   "cell_type": "code",
   "execution_count": 0,
   "metadata": {
    "collapsed": false
   },
   "outputs": [
   ],
   "source": [
   ]
  },
  {
   "cell_type": "markdown",
   "metadata": {
    "collapsed": false
   },
   "source": [
    "4) Suppose $a \\equiv 9 \\mod 12$ and $b \\equiv 8 \\mod 12$. What is $a + b \\mod 12$?"
   ]
  },
  {
   "cell_type": "code",
   "execution_count": 0,
   "metadata": {
    "collapsed": false
   },
   "outputs": [
   ],
   "source": [
   ]
  },
  {
   "cell_type": "markdown",
   "metadata": {
    "collapsed": false
   },
   "source": [
    "5) If $a \\equiv 9 \\mod 26$ find $x$ such that $ax \\equiv 1 \\mod 26$."
   ]
  },
  {
   "cell_type": "code",
   "execution_count": 0,
   "metadata": {
    "collapsed": false
   },
   "outputs": [
   ],
   "source": [
   ]
  }
 ],
 "metadata": {
  "kernelspec": {
   "display_name": "Python 2 (SageMath)",
   "language": "python",
   "name": "python2"
  },
  "language_info": {
   "codemirror_mode": {
    "name": "ipython",
    "version": 2
   },
   "file_extension": ".py",
   "mimetype": "text/x-python",
   "name": "python",
   "nbconvert_exporter": "python",
   "pygments_lexer": "ipython2",
   "version": "2.7.15"
  }
 },
 "nbformat": 4,
 "nbformat_minor": 0
}