{
 "cells": [
  {
   "cell_type": "markdown",
   "metadata": {
    "collapsed": false
   },
   "source": [
    "# **Homework 8**: Due on Wednesday, April 10 by 4:30pm.\n",
    "## Topic: Elliptic Curve Digital Signature Algorithm.\n",
    "\n",
    "Main goals: Get more practice with the algorithm for ECDSA. *Remember to show all of your work for full credit.*"
   ]
  },
  {
   "cell_type": "markdown",
   "metadata": {
    "collapsed": false
   },
   "source": [
    "### Exercises:"
   ]
  },
  {
   "cell_type": "markdown",
   "metadata": {
    "collapsed": false
   },
   "source": [
    "1) In class we discussed that ECDSA is susceptible to an attack if the same $k$ is used for generating multiple signatures for one user. Using similar notation to Lab 8, let's analyze the situation that happened with Sony Playstation 3 in 2010. Here is the situation:\n",
    "\n",
    "    Sony was using a certain elliptic curve $E$ and security domain parameters of base point $G$ with order $q$. A user had public key $R$ and private key $a$. The user would sign for multiple messages, but the same $k$ was used each time. If $m1$ is one message with the user's corresponding signature of $(r,t1)$ and $m2$ is another message with the user's corresponding signature $(r,t2)$, **show how you can find the user's private key $a$.**\n",
    "    \n",
    "    \n",
    "    *Note: simply writing $k = \\frac{m_1-m_2}{t_1-t_2}$, which is floating around the internet, is not good enough. I want to see the arithmetic that leads to this equation and how you can specifically get $a$ from this.*"
   ]
  },
  {
   "cell_type": "code",
   "execution_count": 0,
   "metadata": {
    "collapsed": false
   },
   "outputs": [
   ],
   "source": [
   ]
  },
  {
   "cell_type": "markdown",
   "metadata": {
    "collapsed": false
   },
   "source": [
    "2) If the user is authentic, then ECDSA works because $$u_1\\cdot G + u_2 \\cdot R = k \\cdot G.$$ Fill in the arithmetic steps to show that the left side of the equation is actually equal to the right side. This is the crux of why this algorithm works!"
   ]
  },
  {
   "cell_type": "code",
   "execution_count": 0,
   "metadata": {
    "collapsed": false
   },
   "outputs": [
   ],
   "source": [
   ]
  }
 ],
 "metadata": {
  "kernelspec": {
   "display_name": "Python 2 (Ubuntu Linux)",
   "language": "python",
   "metadata": {
    "cocalc": {
     "description": "Python 2 programming language",
     "priority": 5,
     "url": "https://www.python.org/"
    }
   },
   "name": "python2"
  },
  "language_info": {
   "codemirror_mode": {
    "name": "ipython",
    "version": 2
   },
   "file_extension": ".py",
   "mimetype": "text/x-python",
   "name": "python",
   "nbconvert_exporter": "python",
   "pygments_lexer": "ipython2",
   "version": "2.7.15rc1"
  }
 },
 "nbformat": 4,
 "nbformat_minor": 0
}