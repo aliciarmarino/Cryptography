{
 "cells": [
  {
   "cell_type": "markdown",
   "metadata": {
    "collapsed": false
   },
   "source": [
    "# **Homework 4**: Due on Wednesday, February 20 by 5:00pm.\n",
    "## Topic: Cipher Review\n",
    "\n",
    "Main goals: Practice with shift ciphers, affine ciphers, Vigenère ciphers, and substitution ciphers"
   ]
  },
  {
   "cell_type": "markdown",
   "metadata": {
    "collapsed": false
   },
   "source": [
    "### Exercises:"
   ]
  },
  {
   "cell_type": "markdown",
   "metadata": {
    "collapsed": false
   },
   "source": [
    "1) You intercept communication from a shift cipher. The ciphertext is $\\texttt{`TDSZFWOSLGPFDPOLCLYOZXDECTYRRPYPCLEZCMFETOTOYE'}$. What is the plaintext?"
   ]
  },
  {
   "cell_type": "code",
   "execution_count": 0,
   "metadata": {
    "collapsed": false
   },
   "outputs": [
   ],
   "source": [
   ]
  },
  {
   "cell_type": "markdown",
   "metadata": {
    "collapsed": false
   },
   "source": [
    "2) Encrypt $\\texttt{`mathematics'}$ with the affine function $7x+14 \\mod 26$. What is the decryption function?"
   ]
  },
  {
   "cell_type": "code",
   "execution_count": 0,
   "metadata": {
    "collapsed": false
   },
   "outputs": [
   ],
   "source": [
   ]
  },
  {
   "cell_type": "markdown",
   "metadata": {
    "collapsed": false
   },
   "source": [
    "3) Since you are tired, you encrypt the plaintext $\\texttt{`zzzzzzzzzz.....'}$ using a Vigenère cipher and plan to send it to a friend. If someone intercepts the resulting ciphertext, would they be able to guess the key length accurately? What would the ciphertext look like? Explain."
   ]
  },
  {
   "cell_type": "code",
   "execution_count": 0,
   "metadata": {
    "collapsed": false
   },
   "outputs": [
   ],
   "source": [
   ]
  },
  {
   "cell_type": "markdown",
   "metadata": {
    "collapsed": false
   },
   "source": [
    "4. Explain how shift and affine ciphers are examples of substitution ciphers but Vigenère ciphers are not."
   ]
  },
  {
   "cell_type": "code",
   "execution_count": 0,
   "metadata": {
    "collapsed": false
   },
   "outputs": [
   ],
   "source": [
   ]
  }
 ],
 "metadata": {
  "kernelspec": {
   "display_name": "Python 2 (SageMath)",
   "language": "python",
   "name": "python2"
  },
  "language_info": {
   "codemirror_mode": {
    "name": "ipython",
    "version": 2
   },
   "file_extension": ".py",
   "mimetype": "text/x-python",
   "name": "python",
   "nbconvert_exporter": "python",
   "pygments_lexer": "ipython2",
   "version": "2.7.15"
  }
 },
 "nbformat": 4,
 "nbformat_minor": 0
}