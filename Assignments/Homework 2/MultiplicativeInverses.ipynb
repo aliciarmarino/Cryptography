{
 "cells": [
  {
   "cell_type": "markdown",
   "metadata": {
    "collapsed": false
   },
   "source": [
    "# **Homework 2**: Due on Monday, February 4 by 5:00pm.\n",
    "## Topic: Number theory\n",
    "\n",
    "Main goals: Practice finding inverses modulo $n$. Remember when working through this homework to add as many cells as you need to show all of your work."
   ]
  },
  {
   "cell_type": "markdown",
   "metadata": {
    "collapsed": false
   },
   "source": [
    "### Multiplicative inverses modulo $n$\n",
    "\n",
    "Recall that the multiplicative inverse of $a \\mod n$ is the number $a^{-1}$ such that $aa^{-1} \\equiv 1 \\mod n$."
   ]
  },
  {
   "cell_type": "markdown",
   "metadata": {
    "collapsed": false
   },
   "source": [
    "**Exercise 1**: Find the multiplicative inverses to all residues modulo 5 (i.e. find the multiplicative inverses of 1, 2, 3, 4 modulo 5)."
   ]
  },
  {
   "cell_type": "markdown",
   "metadata": {
    "collapsed": false
   },
   "source": [
    "*Edit this cell to add your answers. Make sure to include your work in cells below*\n",
    "\n",
    "* $1^{-1}=$\n",
    "* $2^{-1}=$\n",
    "* $3^{-1}=$\n",
    "* $4^{-1}=$"
   ]
  },
  {
   "cell_type": "code",
   "execution_count": 0,
   "metadata": {
    "collapsed": false
   },
   "outputs": [
   ],
   "source": [
   ]
  },
  {
   "cell_type": "markdown",
   "metadata": {
    "collapsed": false
   },
   "source": [
    "**Exercise 2:** Find the multiplicative inverses to all residues modulo 9. Which residues do not have a multiplicative inverse?"
   ]
  },
  {
   "cell_type": "markdown",
   "metadata": {
    "collapsed": false
   },
   "source": [
    "*Edit this cell to add your answers. Make sure to include your work in cells below*\n",
    "\n",
    "* $1^{-1}=$\n",
    "* $2^{-1}=$\n",
    "* $3^{-1}=$\n",
    "* $4^{-1}=$\n",
    "* $5^{-1}=$\n",
    "* $6^{-1}=$\n",
    "* $7^{-1}=$\n",
    "* $8^{-1}=$"
   ]
  },
  {
   "cell_type": "code",
   "execution_count": 0,
   "metadata": {
    "collapsed": false
   },
   "outputs": [
   ],
   "source": [
   ]
  },
  {
   "cell_type": "markdown",
   "metadata": {
    "collapsed": false
   },
   "source": [
   ]
  },
  {
   "cell_type": "code",
   "execution_count": 0,
   "metadata": {
    "collapsed": false
   },
   "outputs": [
   ],
   "source": [
   ]
  },
  {
   "cell_type": "markdown",
   "metadata": {
    "collapsed": false
   },
   "source": [
    "### Finding multplicative inverses with Sage\n",
    "\n",
    "You can also use Sage to find inverses modulo $n$. To do this you have to import Sage into the code cell that you are working in."
   ]
  },
  {
   "cell_type": "raw",
   "metadata": {
    "collapsed": false
   },
   "source": [
    "from sage.all import *\n",
    "\n",
    "inverse_mod(3,26)"
   ]
  },
  {
   "cell_type": "markdown",
   "metadata": {
    "collapsed": false
   },
   "source": [
    "The code above finds $3^{-1} \\mod 26$. "
   ]
  },
  {
   "cell_type": "markdown",
   "metadata": {
    "collapsed": false
   },
   "source": [
    "**Exercise 3**: Use Sage to check your answers to the first two problems. Remember to include your work in cells below."
   ]
  },
  {
   "cell_type": "code",
   "execution_count": 0,
   "metadata": {
    "collapsed": false
   },
   "outputs": [
   ],
   "source": [
   ]
  },
  {
   "cell_type": "markdown",
   "metadata": {
    "collapsed": false
   },
   "source": [
    "### Using multiplicative inverses to solve equations modulo n"
   ]
  },
  {
   "cell_type": "markdown",
   "metadata": {
    "collapsed": false
   },
   "source": [
    "**Exercise 4:** Solve the following equations for $x$. \n",
    "\n",
    "* $5x \\equiv 6 \\mod 19$\n",
    "* $102x - 7 \\equiv 2 \\mod 7$\n",
    "* $5x \\equiv 9x + 8\\mod 13$\n",
    "* $-10x - 7 \\equiv 5x \\mod 26$"
   ]
  },
  {
   "cell_type": "code",
   "execution_count": 0,
   "metadata": {
    "collapsed": false
   },
   "outputs": [
   ],
   "source": [
   ]
  },
  {
   "cell_type": "markdown",
   "metadata": {
    "collapsed": false
   },
   "source": [
    "### Short answer question\n",
    "\n",
    "**Exercise 5:** How are multiplicative inverses helpful for solving affine ciphers? Explain."
   ]
  },
  {
   "cell_type": "raw",
   "metadata": {
    "collapsed": false
   },
   "source": [
   ]
  }
 ],
 "metadata": {
  "kernelspec": {
   "display_name": "Python 2 (SageMath)",
   "language": "python",
   "name": "python2"
  },
  "language_info": {
   "codemirror_mode": {
    "name": "ipython",
    "version": 2
   },
   "file_extension": ".py",
   "mimetype": "text/x-python",
   "name": "python",
   "nbconvert_exporter": "python",
   "pygments_lexer": "ipython2",
   "version": "2.7.15"
  }
 },
 "nbformat": 4,
 "nbformat_minor": 0
}