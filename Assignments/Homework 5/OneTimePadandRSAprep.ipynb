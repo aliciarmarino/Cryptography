{
 "cells": [
  {
   "cell_type": "markdown",
   "metadata": {
    "collapsed": false
   },
   "source": [
    "# **Homework 5**: Due on Monday, February 25 by 5:00pm.\n",
    "## Topic: One Time Pad and RSA Preparation\n",
    "\n",
    "Main goals: Summarize our findings of the \"two time pad\" and prepare for RSA"
   ]
  },
  {
   "cell_type": "markdown",
   "metadata": {
    "collapsed": false
   },
   "source": [
    "### Exercises:"
   ]
  },
  {
   "cell_type": "markdown",
   "metadata": {
    "collapsed": false
   },
   "source": [
    "1) Suppose you receive two ciphertexts through a one time pad: $\\texttt{c_1 = `0001110011'}$ and $\\texttt{c_2 = `1100111101'}$. You also find out that the encoder was careless and used the same key to pad both messages. What can you deduce with this information? Explain. *Note: you do not have to break the messages, this would be very hard.*"
   ]
  },
  {
   "cell_type": "code",
   "execution_count": 0,
   "metadata": {
    "collapsed": false
   },
   "outputs": [
   ],
   "source": [
   ]
  },
  {
   "cell_type": "markdown",
   "metadata": {
    "collapsed": false
   },
   "source": [
    "2) Solve the following congruence for $x$. Show your work. $$7^{13x} \\equiv 7 \\mod 143$$"
   ]
  },
  {
   "cell_type": "code",
   "execution_count": 0,
   "metadata": {
    "collapsed": false
   },
   "outputs": [
   ],
   "source": [
   ]
  },
  {
   "cell_type": "markdown",
   "metadata": {
    "collapsed": false
   },
   "source": [
    "3) Can you solve the following congruence for $x$? Explain mathematically why or why not. Show your work.  $$7^{12x} \\equiv 7 \\mod 143$$"
   ]
  },
  {
   "cell_type": "code",
   "execution_count": 0,
   "metadata": {
    "collapsed": false
   },
   "outputs": [
   ],
   "source": [
   ]
  }
 ],
 "metadata": {
  "kernelspec": {
   "display_name": "Python 2 (SageMath)",
   "language": "python",
   "name": "python2"
  },
  "language_info": {
   "codemirror_mode": {
    "name": "ipython",
    "version": 2
   },
   "file_extension": ".py",
   "mimetype": "text/x-python",
   "name": "python",
   "nbconvert_exporter": "python",
   "pygments_lexer": "ipython2",
   "version": "2.7.15"
  }
 },
 "nbformat": 4,
 "nbformat_minor": 0
}