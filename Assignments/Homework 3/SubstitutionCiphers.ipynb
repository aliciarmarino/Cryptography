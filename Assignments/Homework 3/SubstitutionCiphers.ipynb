{
 "cells": [
  {
   "cell_type": "markdown",
   "metadata": {
    "collapsed": false
   },
   "source": [
    "# **Homework 3**: Due on Monday, February 11 by 5:00pm.\n",
    "## Topic: Substitution ciphers\n",
    "\n",
    "Main goals: Practice your known ciphertext skills. "
   ]
  },
  {
   "cell_type": "markdown",
   "metadata": {
    "collapsed": false
   },
   "source": [
    "### Substitution ciphers\n",
    "\n",
    "A substitution cipher is when a permutation of the alphabet is chosen and applied to the plaintext. For example, $\\texttt{`ilovecatsandmath'}$ can be encrypted to $\\texttt{`CGEWPMNJRNFSBNJA'}$ by choosing the following substitutions:\n",
    "\n",
    "$a \\rightarrow N, c \\rightarrow M, e \\rightarrow P, h \\rightarrow A, i \\rightarrow C, \\ldots$"
   ]
  },
  {
   "cell_type": "markdown",
   "metadata": {
    "collapsed": false
   },
   "source": [
    "One important factor in a known ciphertext attack on a substitution cipher is frequency analysis. Below is a table of the frequencies of letters appearing in English text.\n",
    "\n",
    "| letter |A|B|C|D|E|F|G|H|I|J|K|L|M|N|O|P|Q|R|S|T|U|V|W|X|Y|Z|\n",
    "|-|-|-|-|-|-|-|-|-|-|-|-|-|-|-|-|-|-|-|-|-|-|-|-|-|-|-|\n",
    "|frequency |.0816 | .0149| .0278| .0425| .1270| .0222| .0201| .0609| .0696| .0015| .0077| .0402| .0240| .0674| .0750| .0192| .0009| .0598| .0632| .0905| .0275| .0097| .0236| .0015| .0197| .0007|\n",
    "\n"
   ]
  },
  {
   "cell_type": "markdown",
   "metadata": {
    "collapsed": false
   },
   "source": [
    "Use the frequency table above in Exercise 1 if desired."
   ]
  },
  {
   "cell_type": "markdown",
   "metadata": {
    "collapsed": false
   },
   "source": [
    "### Known ciphertext attack on a substitution cipher\n",
    "\n",
    "Below is a ciphertext from a substitution cipher. Note that spaces and punctuation are included as an aid in decryption. Linguistics are important here.\n",
    "\n",
    "$\\texttt{NBV AFINNJ FBVVOFBJR, QZ AYVOKKOED XRYIHXRYOFA NW OYA FBJYBVRJ FNEYHEY REL JHRMOED R QRVH ATHJHYNE NW YHFIEOFRJOYOHA, IRMH VHKHJJHL XREZ R WOEH XOEL. OY OA YIH ROX NW YIOA QNNT YN VHAYNVH YIOA FBJYBVRJ FNEYHEY REL KVHAHEY YIH HMNJBYONE NW EBXQHV RA YIH KVNWNBELJZ IBXRE AYNVZ CIOFI OY OA.}$\n",
    "\n",
    "**Exercise 1:** Use any method you want to find the plaintext. Be sure to include cells below with your work."
   ]
  },
  {
   "cell_type": "code",
   "execution_count": 0,
   "metadata": {
    "collapsed": false
   },
   "outputs": [
   ],
   "source": [
   ]
  },
  {
   "cell_type": "raw",
   "metadata": {
    "collapsed": false
   },
   "source": [
    "The plaintext message is:"
   ]
  },
  {
   "cell_type": "markdown",
   "metadata": {
    "collapsed": false
   },
   "source": [
    "### Short answer questions\n",
    "\n",
    "**Exercise 2:** Explain *in detail* the methods you used to crack the code. "
   ]
  },
  {
   "cell_type": "markdown",
   "metadata": {
    "collapsed": false
   },
   "source": [
   ]
  },
  {
   "cell_type": "markdown",
   "metadata": {
    "collapsed": false
   },
   "source": [
    "**Exercise 3:** Is this substitution actually an affine cipher? Explain why or why not."
   ]
  },
  {
   "cell_type": "markdown",
   "metadata": {
    "collapsed": false
   },
   "source": [
   ]
  }
 ],
 "metadata": {
  "kernelspec": {
   "display_name": "Python 2 (SageMath)",
   "language": "python",
   "name": "python2"
  },
  "language_info": {
   "codemirror_mode": {
    "name": "ipython",
    "version": 2
   },
   "file_extension": ".py",
   "mimetype": "text/x-python",
   "name": "python",
   "nbconvert_exporter": "python",
   "pygments_lexer": "ipython2",
   "version": "2.7.15"
  }
 },
 "nbformat": 4,
 "nbformat_minor": 0
}